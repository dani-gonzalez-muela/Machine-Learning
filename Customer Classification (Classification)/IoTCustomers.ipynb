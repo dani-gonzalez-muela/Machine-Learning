{
 "cells": [
  {
   "cell_type": "markdown",
   "metadata": {
    "id": "EzfnlG_gKLhF"
   },
   "source": [
    "# <center> Supervised learning for classification in Marketing and Sales </center>"
   ]
  },
  {
   "cell_type": "markdown",
   "metadata": {
    "id": "jdPg2j8dKLhG"
   },
   "source": [
    "# Goals:\n",
    "In this project, we will develop and apply different supervised classification tecnhiques. These methodologies are broadly used in business to multiple use cases as:\n",
    "- identify **new customers** in the market\n",
    "- identify customers in our internal Data Warehouse with **more likely** to buy a new product\n",
    "- identify unsatisfied customers and thus, likely to be **churners**\n",
    "- classify text into categories for spam identification or to process messages or emails from our customers\n",
    "\n",
    "During this project we will follow the end-to-end Machine Learning process: from data gathering and cleaning, exploratory data analysis, feature engineering and finally, training and prediction. In particular, the main sections of this project are:\n",
    "1. Data understanding and preparation: exploration of the dataset and feature engineering (missing values, outlier identification, categorical variables management) \n",
    "2. Model Training: training the baseline SVM and Decision Trees. Analysis of metrics (recall, precision, confusion metrics) and improvement the classification through several techniques as undersampling to balance or ensemble of models\n",
    "3. Creating a Business opportunity with Machine Learning: selection of the best model and identification of the most important features\n",
    "\n",
    "\n",
    "\n",
    "We will apply all these techniques to identify new customers to capture and improve sales in a **marketing use case**."
   ]
  },
  {
   "cell_type": "markdown",
   "metadata": {
    "id": "-A4_3DZEKLhI"
   },
   "source": [
    "*******"
   ]
  },
  {
   "cell_type": "markdown",
   "metadata": {
    "id": "FZY4NReQKLhI"
   },
   "source": [
    "# 0. Context:  Using Machine Learning to increase our customers base"
   ]
  },
  {
   "cell_type": "markdown",
   "metadata": {
    "id": "diyA2X3aKLhJ"
   },
   "source": [
    "We work as a head of data science and AI in a new Internet of Things (IoT) company. Our company designs, builds and implements wireless IoT products.\n",
    "\n",
    "Our marketing colleagues are planning to launch a new commercial campaign for capturing new customers. We have to decide which companies are the target to be visited by our sales managers. As the cost to send a sales manager to visit a potential customer is quite high, we have to select from the total market base, those companies that are more likely to buy any of our products and become a new customer. \n",
    "\n",
    "To support this new campaign, we are **using several of the most important classification techniques**. We will manage key evaluation aspects of a classification as **recall, precision, false positive, etc...** to decide which are the best potential customers. \n"
   ]
  },
  {
   "cell_type": "markdown",
   "metadata": {
    "id": "1hxQ0QtwKLhK"
   },
   "source": [
    "## 0.1 Dataset"
   ]
  },
  {
   "cell_type": "markdown",
   "metadata": {
    "id": "uRr4nn5-KLhK"
   },
   "source": [
    "In this practice we are using a new dataset named `market_dt.csv`. This file contains information of **IoT market**, i.e. companies that could be interested to buy IoT products or they have already. In particular, the detailed information for each customer is:\n",
    "- *City*: Name of the city where the company is located\n",
    "- *Customer_Flag*: It is a flag that is 1 for current customers and 0 for non-customers\n",
    "- *Revenue*: The annual incomes of the company\n",
    "- *Sector*: It's an integer that identifies the sector of the company's activity\n",
    "- *CNT_EMPLOYEE*: Number of employees of the company\n",
    "- *CNT_CB_DENSITY*: Number of companies close\n",
    "- *CNT_CB_MOB_DENSITY*: Number of companies with mobile services\n",
    "- *CNT_CB_FN_DENSITY*: Number of companies with fixed services\n",
    "- *Legal_Form_Code*: It's an integer that identifies the legal type of the company: big, small or medium company\n",
    "- *Mobile potential*: It's an estimation of the total annual expense that a company can do in telco services, including IoT"
   ]
  },
  {
   "cell_type": "markdown",
   "metadata": {
    "id": "6U4Sxn_kKLhL"
   },
   "source": [
    "## 0.2. Imports"
   ]
  },
  {
   "cell_type": "code",
   "execution_count": 8,
   "metadata": {
    "executionInfo": {
     "elapsed": 1513,
     "status": "ok",
     "timestamp": 1624201453926,
     "user": {
      "displayName": "ARIADNA NING MORANCHO",
      "photoUrl": "",
      "userId": "02737535556598089552"
     },
     "user_tz": -120
    },
    "id": "t4bx2UI5KLhM"
   },
   "outputs": [],
   "source": [
    "import pandas as pd\n",
    "import numpy as np\n",
    "import matplotlib.pyplot as plt\n",
    "from matplotlib import pyplot\n",
    "import matplotlib.cm as cm\n",
    "import seaborn as sns\n",
    "from scipy.stats import iqr\n",
    "from scipy.stats import chi2_contingency\n",
    "from sklearn.preprocessing import StandardScaler\n",
    "from sklearn.preprocessing import Normalizer\n",
    "from sklearn.preprocessing import MinMaxScaler\n",
    "from sklearn.preprocessing import LabelEncoder\n",
    "from sklearn.model_selection import train_test_split\n",
    "from sklearn.linear_model import SGDClassifier\n",
    "from sklearn.svm import SVC\n",
    "from sklearn.model_selection import train_test_split\n",
    "from sklearn.metrics import accuracy_score, auc, roc_curve, classification_report, confusion_matrix, precision_score, recall_score, precision_recall_curve\n",
    "from sklearn.tree import DecisionTreeClassifier\n",
    "from sklearn.ensemble import RandomForestClassifier, GradientBoostingClassifier, VotingClassifier, AdaBoostClassifier \n",
    "from sklearn.model_selection import KFold\n",
    "from sklearn.model_selection import cross_val_score\n",
    "from sklearn.model_selection import StratifiedKFold"
   ]
  },
  {
   "cell_type": "code",
   "execution_count": 9,
   "metadata": {
    "colab": {
     "base_uri": "https://localhost:8080/"
    },
    "executionInfo": {
     "elapsed": 23229,
     "status": "ok",
     "timestamp": 1624201476808,
     "user": {
      "displayName": "ARIADNA NING MORANCHO",
      "photoUrl": "",
      "userId": "02737535556598089552"
     },
     "user_tz": -120
    },
    "id": "cn1dFP5KVpjE",
    "outputId": "d1e4c5b4-2179-4592-9ff9-3c9d05e51b62"
   },
   "outputs": [],
   "source": [
    "#from google.colab import drive\n",
    "#drive.mount('/content/drive')"
   ]
  },
  {
   "cell_type": "markdown",
   "metadata": {
    "id": "o7OfXFAoKLhP"
   },
   "source": [
    "# 1. Data understanding and preparation"
   ]
  },
  {
   "cell_type": "markdown",
   "metadata": {
    "id": "T0GEXTMZKLhQ"
   },
   "source": [
    "The first stage in any Machine Learning project is to have a clear understanding of the dataset from a statistical point of view but also from the perspective of the value of their variables to solve the use case or problem. To achieve this goal we need to \"clean\" and \"transform\" the data. All this process is known as **Data Wrangling**. In particular, the whole data wrangling process implies:\n",
    "- Define and apply an strategy for nulls and coding for categorical variables\n",
    "- Analyze the variables distribution and correlation between them\n",
    "- Remove outliers\n",
    "- etc....\n"
   ]
  },
  {
   "cell_type": "markdown",
   "metadata": {
    "id": "tzaVBJ98KLhQ"
   },
   "source": [
    "Let's open the csv with separator \";\" and assign to a dataframe variable (use read_csv from Pandas library). Let's see the top 5 elements."
   ]
  },
  {
   "cell_type": "code",
   "execution_count": 10,
   "metadata": {
    "colab": {
     "base_uri": "https://localhost:8080/",
     "height": 200
    },
    "executionInfo": {
     "elapsed": 712,
     "status": "ok",
     "timestamp": 1624201477505,
     "user": {
      "displayName": "ARIADNA NING MORANCHO",
      "photoUrl": "",
      "userId": "02737535556598089552"
     },
     "user_tz": -120
    },
    "id": "t7w8v94aKLhR",
    "outputId": "f3b21010-046c-4729-a2f4-ff4b36eb78f5"
   },
   "outputs": [
    {
     "data": {
      "text/html": [
       "<div>\n",
       "<style scoped>\n",
       "    .dataframe tbody tr th:only-of-type {\n",
       "        vertical-align: middle;\n",
       "    }\n",
       "\n",
       "    .dataframe tbody tr th {\n",
       "        vertical-align: top;\n",
       "    }\n",
       "\n",
       "    .dataframe thead th {\n",
       "        text-align: right;\n",
       "    }\n",
       "</style>\n",
       "<table border=\"1\" class=\"dataframe\">\n",
       "  <thead>\n",
       "    <tr style=\"text-align: right;\">\n",
       "      <th></th>\n",
       "      <th>City</th>\n",
       "      <th>Customer_Flag</th>\n",
       "      <th>Revenue</th>\n",
       "      <th>Sector</th>\n",
       "      <th>Legal_Form_Code</th>\n",
       "      <th>CNT_EMPLOYEE</th>\n",
       "      <th>CNT_CB_DENSITY</th>\n",
       "      <th>CNT_CB_MOB_DENSITY</th>\n",
       "      <th>CNT_CB_FN_DENSITY</th>\n",
       "      <th>Mobile_potential</th>\n",
       "    </tr>\n",
       "  </thead>\n",
       "  <tbody>\n",
       "    <tr>\n",
       "      <th>0</th>\n",
       "      <td>Bremen</td>\n",
       "      <td>0</td>\n",
       "      <td>21339309.0</td>\n",
       "      <td>26.0</td>\n",
       "      <td>14.0</td>\n",
       "      <td>25</td>\n",
       "      <td>161.0</td>\n",
       "      <td>154.0</td>\n",
       "      <td>10.0</td>\n",
       "      <td>1783.999887</td>\n",
       "    </tr>\n",
       "    <tr>\n",
       "      <th>1</th>\n",
       "      <td>Steinfurt</td>\n",
       "      <td>0</td>\n",
       "      <td>NaN</td>\n",
       "      <td>74.0</td>\n",
       "      <td>4.0</td>\n",
       "      <td>50</td>\n",
       "      <td>41.0</td>\n",
       "      <td>41.0</td>\n",
       "      <td>1.0</td>\n",
       "      <td>1884.468150</td>\n",
       "    </tr>\n",
       "    <tr>\n",
       "      <th>2</th>\n",
       "      <td>Magdeburg</td>\n",
       "      <td>0</td>\n",
       "      <td>NaN</td>\n",
       "      <td>83.0</td>\n",
       "      <td>28.0</td>\n",
       "      <td>28</td>\n",
       "      <td>188.0</td>\n",
       "      <td>187.0</td>\n",
       "      <td>6.0</td>\n",
       "      <td>1938.651093</td>\n",
       "    </tr>\n",
       "    <tr>\n",
       "      <th>3</th>\n",
       "      <td>Leipzig</td>\n",
       "      <td>0</td>\n",
       "      <td>NaN</td>\n",
       "      <td>61.0</td>\n",
       "      <td>28.0</td>\n",
       "      <td>12</td>\n",
       "      <td>597.0</td>\n",
       "      <td>594.0</td>\n",
       "      <td>21.0</td>\n",
       "      <td>1602.187431</td>\n",
       "    </tr>\n",
       "    <tr>\n",
       "      <th>4</th>\n",
       "      <td>Tamm</td>\n",
       "      <td>0</td>\n",
       "      <td>NaN</td>\n",
       "      <td>74.0</td>\n",
       "      <td>4.0</td>\n",
       "      <td>37</td>\n",
       "      <td>336.0</td>\n",
       "      <td>334.0</td>\n",
       "      <td>10.0</td>\n",
       "      <td>1931.884908</td>\n",
       "    </tr>\n",
       "  </tbody>\n",
       "</table>\n",
       "</div>"
      ],
      "text/plain": [
       "        City  Customer_Flag     Revenue  Sector  Legal_Form_Code  \\\n",
       "0     Bremen              0  21339309.0    26.0             14.0   \n",
       "1  Steinfurt              0         NaN    74.0              4.0   \n",
       "2  Magdeburg              0         NaN    83.0             28.0   \n",
       "3    Leipzig              0         NaN    61.0             28.0   \n",
       "4       Tamm              0         NaN    74.0              4.0   \n",
       "\n",
       "   CNT_EMPLOYEE  CNT_CB_DENSITY  CNT_CB_MOB_DENSITY  CNT_CB_FN_DENSITY  \\\n",
       "0            25           161.0               154.0               10.0   \n",
       "1            50            41.0                41.0                1.0   \n",
       "2            28           188.0               187.0                6.0   \n",
       "3            12           597.0               594.0               21.0   \n",
       "4            37           336.0               334.0               10.0   \n",
       "\n",
       "   Mobile_potential  \n",
       "0       1783.999887  \n",
       "1       1884.468150  \n",
       "2       1938.651093  \n",
       "3       1602.187431  \n",
       "4       1931.884908  "
      ]
     },
     "execution_count": 10,
     "metadata": {},
     "output_type": "execute_result"
    }
   ],
   "source": [
    "market_dt = pd.read_csv('data/market_dt.csv', usecols={'City', 'Customer_Flag', 'Revenue', 'Sector', 'CNT_EMPLOYEE',\n",
    "                                                 'CNT_CB_DENSITY', 'CNT_CB_MOB_DENSITY', 'CNT_CB_FN_DENSITY',\n",
    "                                                 'Legal_Form_Code','Mobile_potential'}, sep=\";\")\n",
    "market_dt.head()"
   ]
  },
  {
   "cell_type": "markdown",
   "metadata": {
    "id": "osFK9XOAKLhV"
   },
   "source": [
    "[**EX1**] [**REPORT**] Let's identify the type of the variables (integer, float, chart...) and the size of the dataset and the file. Which are the variable with more nulls? And with no nulls? Why 'City' variables is considered as object type?\n",
    "\n",
    "Tip: [.info()](https://www.geeksforgeeks.org/python-pandas-dataframe-info/) is a function that reports the main characteristics of a dataframe."
   ]
  },
  {
   "cell_type": "code",
   "execution_count": 11,
   "metadata": {
    "colab": {
     "base_uri": "https://localhost:8080/"
    },
    "executionInfo": {
     "elapsed": 40,
     "status": "ok",
     "timestamp": 1624201477507,
     "user": {
      "displayName": "ARIADNA NING MORANCHO",
      "photoUrl": "",
      "userId": "02737535556598089552"
     },
     "user_tz": -120
    },
    "id": "eLv07bHGyGAQ",
    "outputId": "7d0313a3-e4ee-431e-af9c-d24a323e7b0e"
   },
   "outputs": [
    {
     "name": "stdout",
     "output_type": "stream",
     "text": [
      "<class 'pandas.core.frame.DataFrame'>\n",
      "RangeIndex: 13335 entries, 0 to 13334\n",
      "Data columns (total 10 columns):\n",
      " #   Column              Non-Null Count  Dtype  \n",
      "---  ------              --------------  -----  \n",
      " 0   City                13335 non-null  object \n",
      " 1   Customer_Flag       13335 non-null  int64  \n",
      " 2   Revenue             8589 non-null   float64\n",
      " 3   Sector              13235 non-null  float64\n",
      " 4   Legal_Form_Code     13229 non-null  float64\n",
      " 5   CNT_EMPLOYEE        13335 non-null  int64  \n",
      " 6   CNT_CB_DENSITY      10265 non-null  float64\n",
      " 7   CNT_CB_MOB_DENSITY  10265 non-null  float64\n",
      " 8   CNT_CB_FN_DENSITY   10265 non-null  float64\n",
      " 9   Mobile_potential    13335 non-null  float64\n",
      "dtypes: float64(7), int64(2), object(1)\n",
      "memory usage: 1.0+ MB\n",
      "None\n"
     ]
    }
   ],
   "source": [
    "print(market_dt.info())"
   ]
  },
  {
   "cell_type": "markdown",
   "metadata": {
    "id": "rnjxSOlfKLhZ"
   },
   "source": [
    "Once we have the first contact with the dataset, next step is to decide the strategy to apply to **nulls** values. There are several options as removing the rows with any **null**, assigning a constant value (e.g. median or mean value), etc.... In our case, we are removing the rows with **null** in any of the values."
   ]
  },
  {
   "cell_type": "markdown",
   "metadata": {
    "id": "j6WN5zKGKLhZ"
   },
   "source": [
    "[**EX2**] [**CODE**] Eliminate those rows which has nulls in any variable. Let's check that there is no nulls in any variable. Which is the size of the resulting dataset? "
   ]
  },
  {
   "cell_type": "code",
   "execution_count": 12,
   "metadata": {
    "executionInfo": {
     "elapsed": 34,
     "status": "ok",
     "timestamp": 1624201477508,
     "user": {
      "displayName": "ARIADNA NING MORANCHO",
      "photoUrl": "",
      "userId": "02737535556598089552"
     },
     "user_tz": -120
    },
    "id": "Nl2q0E2my2jD"
   },
   "outputs": [],
   "source": [
    "market_dt = market_dt.dropna(axis=0, how=\"any\")"
   ]
  },
  {
   "cell_type": "code",
   "execution_count": 13,
   "metadata": {
    "colab": {
     "base_uri": "https://localhost:8080/"
    },
    "executionInfo": {
     "elapsed": 34,
     "status": "ok",
     "timestamp": 1624201477509,
     "user": {
      "displayName": "ARIADNA NING MORANCHO",
      "photoUrl": "",
      "userId": "02737535556598089552"
     },
     "user_tz": -120
    },
    "id": "rqlq9NrAzKTo",
    "outputId": "901561f0-3cae-4962-c41b-fe0bd16ec096"
   },
   "outputs": [
    {
     "name": "stdout",
     "output_type": "stream",
     "text": [
      "<class 'pandas.core.frame.DataFrame'>\n",
      "Int64Index: 6987 entries, 0 to 13321\n",
      "Data columns (total 10 columns):\n",
      " #   Column              Non-Null Count  Dtype  \n",
      "---  ------              --------------  -----  \n",
      " 0   City                6987 non-null   object \n",
      " 1   Customer_Flag       6987 non-null   int64  \n",
      " 2   Revenue             6987 non-null   float64\n",
      " 3   Sector              6987 non-null   float64\n",
      " 4   Legal_Form_Code     6987 non-null   float64\n",
      " 5   CNT_EMPLOYEE        6987 non-null   int64  \n",
      " 6   CNT_CB_DENSITY      6987 non-null   float64\n",
      " 7   CNT_CB_MOB_DENSITY  6987 non-null   float64\n",
      " 8   CNT_CB_FN_DENSITY   6987 non-null   float64\n",
      " 9   Mobile_potential    6987 non-null   float64\n",
      "dtypes: float64(7), int64(2), object(1)\n",
      "memory usage: 600.4+ KB\n"
     ]
    }
   ],
   "source": [
    "market_dt.info()"
   ]
  },
  {
   "cell_type": "markdown",
   "metadata": {
    "id": "jMAZKlkpKLhf"
   },
   "source": [
    "Your output should look like this:"
   ]
  },
  {
   "cell_type": "code",
   "execution_count": 14,
   "metadata": {
    "colab": {
     "base_uri": "https://localhost:8080/"
    },
    "executionInfo": {
     "elapsed": 29,
     "status": "ok",
     "timestamp": 1624201477510,
     "user": {
      "displayName": "ARIADNA NING MORANCHO",
      "photoUrl": "",
      "userId": "02737535556598089552"
     },
     "user_tz": -120
    },
    "id": "H2dXqQbfKLhf",
    "outputId": "75d055af-9d51-48cf-a98d-4ab491fcc634"
   },
   "outputs": [
    {
     "name": "stdout",
     "output_type": "stream",
     "text": [
      "<class 'pandas.core.frame.DataFrame'>\n",
      "Int64Index: 6987 entries, 0 to 13321\n",
      "Data columns (total 10 columns):\n",
      " #   Column              Non-Null Count  Dtype  \n",
      "---  ------              --------------  -----  \n",
      " 0   City                6987 non-null   object \n",
      " 1   Customer_Flag       6987 non-null   int64  \n",
      " 2   Revenue             6987 non-null   float64\n",
      " 3   Sector              6987 non-null   float64\n",
      " 4   Legal_Form_Code     6987 non-null   float64\n",
      " 5   CNT_EMPLOYEE        6987 non-null   int64  \n",
      " 6   CNT_CB_DENSITY      6987 non-null   float64\n",
      " 7   CNT_CB_MOB_DENSITY  6987 non-null   float64\n",
      " 8   CNT_CB_FN_DENSITY   6987 non-null   float64\n",
      " 9   Mobile_potential    6987 non-null   float64\n",
      "dtypes: float64(7), int64(2), object(1)\n",
      "memory usage: 600.4+ KB\n"
     ]
    }
   ],
   "source": [
    "market_dt.info()"
   ]
  },
  {
   "cell_type": "markdown",
   "metadata": {
    "id": "uR4UCXz6KLhj"
   },
   "source": [
    "In Machine Learning, it is key to analyze the variables from a statistical point of view: knowing the distribution of each variable, their mean and median are key to identify any transformation to apply before training the model. \n",
    "Furthermore, due to we are training a classifier (in our case, to classify between ***customers*** and ***non customers***), this analysis should be done for both classes separetly."
   ]
  },
  {
   "cell_type": "markdown",
   "metadata": {
    "id": "L2r-IQ7OKLhj"
   },
   "source": [
    "[**EX3**] [**REPORT**] Create a `customer_dt`and `noncustomer_dt`datasets based on the `Customer_Flag`variable (`Customer_Flag`=1 for **customers** and 0 for **noncustomers**). Build a boxplot for the `Revenue`, `CNT_EMPLOYEE`, `Mobile_potential` and `CNT_CB_Density` numeric variables for both datasets. Which are the main differences between `customer_dt`and `noncustomer_dt` datasets comparing these variables. Which is the dataset with `CNT_EMPLOYEE` higher? Which datasets have more outliers in `Revenues`? Which is the Q1, median (=Q2) and Q3 for `Revenues`and `Mobile_potential`?\n",
    "\n",
    "\n",
    "Tip: you may have to use the [boxplot](https://matplotlib.org/3.1.1/api/_as_gen/matplotlib.pyplot.boxplot.html) function."
   ]
  },
  {
   "cell_type": "code",
   "execution_count": 15,
   "metadata": {
    "colab": {
     "base_uri": "https://localhost:8080/",
     "height": 200
    },
    "executionInfo": {
     "elapsed": 25,
     "status": "ok",
     "timestamp": 1624201477511,
     "user": {
      "displayName": "ARIADNA NING MORANCHO",
      "photoUrl": "",
      "userId": "02737535556598089552"
     },
     "user_tz": -120
    },
    "id": "gLYE2-S62vcG",
    "outputId": "ef199e95-ba2c-4a62-deaa-fcb04da8276c"
   },
   "outputs": [
    {
     "data": {
      "text/html": [
       "<div>\n",
       "<style scoped>\n",
       "    .dataframe tbody tr th:only-of-type {\n",
       "        vertical-align: middle;\n",
       "    }\n",
       "\n",
       "    .dataframe tbody tr th {\n",
       "        vertical-align: top;\n",
       "    }\n",
       "\n",
       "    .dataframe thead th {\n",
       "        text-align: right;\n",
       "    }\n",
       "</style>\n",
       "<table border=\"1\" class=\"dataframe\">\n",
       "  <thead>\n",
       "    <tr style=\"text-align: right;\">\n",
       "      <th></th>\n",
       "      <th>City</th>\n",
       "      <th>Customer_Flag</th>\n",
       "      <th>Revenue</th>\n",
       "      <th>Sector</th>\n",
       "      <th>Legal_Form_Code</th>\n",
       "      <th>CNT_EMPLOYEE</th>\n",
       "      <th>CNT_CB_DENSITY</th>\n",
       "      <th>CNT_CB_MOB_DENSITY</th>\n",
       "      <th>CNT_CB_FN_DENSITY</th>\n",
       "      <th>Mobile_potential</th>\n",
       "    </tr>\n",
       "  </thead>\n",
       "  <tbody>\n",
       "    <tr>\n",
       "      <th>11548</th>\n",
       "      <td>Haar</td>\n",
       "      <td>1</td>\n",
       "      <td>4000000.0</td>\n",
       "      <td>42.0</td>\n",
       "      <td>14.0</td>\n",
       "      <td>13</td>\n",
       "      <td>891.0</td>\n",
       "      <td>867.0</td>\n",
       "      <td>62.0</td>\n",
       "      <td>1778.004205</td>\n",
       "    </tr>\n",
       "    <tr>\n",
       "      <th>11551</th>\n",
       "      <td>Greding</td>\n",
       "      <td>1</td>\n",
       "      <td>11780000.0</td>\n",
       "      <td>74.0</td>\n",
       "      <td>4.0</td>\n",
       "      <td>50</td>\n",
       "      <td>7.0</td>\n",
       "      <td>7.0</td>\n",
       "      <td>0.0</td>\n",
       "      <td>1899.663564</td>\n",
       "    </tr>\n",
       "    <tr>\n",
       "      <th>11553</th>\n",
       "      <td>Dörth</td>\n",
       "      <td>1</td>\n",
       "      <td>2050000.0</td>\n",
       "      <td>43.0</td>\n",
       "      <td>14.0</td>\n",
       "      <td>16</td>\n",
       "      <td>30.0</td>\n",
       "      <td>30.0</td>\n",
       "      <td>1.0</td>\n",
       "      <td>1655.520125</td>\n",
       "    </tr>\n",
       "    <tr>\n",
       "      <th>11554</th>\n",
       "      <td>Frankfurt</td>\n",
       "      <td>1</td>\n",
       "      <td>853500.0</td>\n",
       "      <td>63.0</td>\n",
       "      <td>14.0</td>\n",
       "      <td>13</td>\n",
       "      <td>870.0</td>\n",
       "      <td>842.0</td>\n",
       "      <td>77.0</td>\n",
       "      <td>1548.507315</td>\n",
       "    </tr>\n",
       "    <tr>\n",
       "      <th>11565</th>\n",
       "      <td>Benningen</td>\n",
       "      <td>1</td>\n",
       "      <td>10680000.0</td>\n",
       "      <td>74.0</td>\n",
       "      <td>4.0</td>\n",
       "      <td>16</td>\n",
       "      <td>319.0</td>\n",
       "      <td>317.0</td>\n",
       "      <td>10.0</td>\n",
       "      <td>1746.128813</td>\n",
       "    </tr>\n",
       "  </tbody>\n",
       "</table>\n",
       "</div>"
      ],
      "text/plain": [
       "            City  Customer_Flag     Revenue  Sector  Legal_Form_Code  \\\n",
       "11548       Haar              1   4000000.0    42.0             14.0   \n",
       "11551    Greding              1  11780000.0    74.0              4.0   \n",
       "11553      Dörth              1   2050000.0    43.0             14.0   \n",
       "11554  Frankfurt              1    853500.0    63.0             14.0   \n",
       "11565  Benningen              1  10680000.0    74.0              4.0   \n",
       "\n",
       "       CNT_EMPLOYEE  CNT_CB_DENSITY  CNT_CB_MOB_DENSITY  CNT_CB_FN_DENSITY  \\\n",
       "11548            13           891.0               867.0               62.0   \n",
       "11551            50             7.0                 7.0                0.0   \n",
       "11553            16            30.0                30.0                1.0   \n",
       "11554            13           870.0               842.0               77.0   \n",
       "11565            16           319.0               317.0               10.0   \n",
       "\n",
       "       Mobile_potential  \n",
       "11548       1778.004205  \n",
       "11551       1899.663564  \n",
       "11553       1655.520125  \n",
       "11554       1548.507315  \n",
       "11565       1746.128813  "
      ]
     },
     "execution_count": 15,
     "metadata": {},
     "output_type": "execute_result"
    }
   ],
   "source": [
    "customer_dt = market_dt[market_dt['Customer_Flag'] == 1]\n",
    "customer_dt.head()"
   ]
  },
  {
   "cell_type": "code",
   "execution_count": 16,
   "metadata": {
    "colab": {
     "base_uri": "https://localhost:8080/"
    },
    "executionInfo": {
     "elapsed": 25,
     "status": "ok",
     "timestamp": 1624201477513,
     "user": {
      "displayName": "ARIADNA NING MORANCHO",
      "photoUrl": "",
      "userId": "02737535556598089552"
     },
     "user_tz": -120
    },
    "id": "xWINRc7GHUcU",
    "outputId": "98a23bf5-a87c-411a-cba1-b97ee9b83074"
   },
   "outputs": [
    {
     "name": "stdout",
     "output_type": "stream",
     "text": [
      "<class 'pandas.core.frame.DataFrame'>\n",
      "Int64Index: 1111 entries, 11548 to 13321\n",
      "Data columns (total 10 columns):\n",
      " #   Column              Non-Null Count  Dtype  \n",
      "---  ------              --------------  -----  \n",
      " 0   City                1111 non-null   object \n",
      " 1   Customer_Flag       1111 non-null   int64  \n",
      " 2   Revenue             1111 non-null   float64\n",
      " 3   Sector              1111 non-null   float64\n",
      " 4   Legal_Form_Code     1111 non-null   float64\n",
      " 5   CNT_EMPLOYEE        1111 non-null   int64  \n",
      " 6   CNT_CB_DENSITY      1111 non-null   float64\n",
      " 7   CNT_CB_MOB_DENSITY  1111 non-null   float64\n",
      " 8   CNT_CB_FN_DENSITY   1111 non-null   float64\n",
      " 9   Mobile_potential    1111 non-null   float64\n",
      "dtypes: float64(7), int64(2), object(1)\n",
      "memory usage: 95.5+ KB\n"
     ]
    }
   ],
   "source": [
    "customer_dt.info()\n"
   ]
  },
  {
   "cell_type": "code",
   "execution_count": 17,
   "metadata": {
    "colab": {
     "base_uri": "https://localhost:8080/"
    },
    "executionInfo": {
     "elapsed": 438,
     "status": "ok",
     "timestamp": 1624201477932,
     "user": {
      "displayName": "ARIADNA NING MORANCHO",
      "photoUrl": "",
      "userId": "02737535556598089552"
     },
     "user_tz": -120
    },
    "id": "xoLSx2xP-epb",
    "outputId": "482735d0-00c0-4c9a-c2ac-4351d206e73e"
   },
   "outputs": [
    {
     "data": {
      "text/plain": [
       "0.25    1047500.0\n",
       "0.50    2200000.0\n",
       "0.75    4195000.0\n",
       "Name: Revenue, dtype: float64"
      ]
     },
     "execution_count": 17,
     "metadata": {},
     "output_type": "execute_result"
    }
   ],
   "source": [
    "customer_dt.Revenue.quantile([0.25, 0.5, 0.75])"
   ]
  },
  {
   "cell_type": "code",
   "execution_count": 18,
   "metadata": {
    "colab": {
     "base_uri": "https://localhost:8080/"
    },
    "executionInfo": {
     "elapsed": 112,
     "status": "ok",
     "timestamp": 1624201477934,
     "user": {
      "displayName": "ARIADNA NING MORANCHO",
      "photoUrl": "",
      "userId": "02737535556598089552"
     },
     "user_tz": -120
    },
    "id": "qcpcIa9T_ECe",
    "outputId": "06a6e08e-c7de-4e50-9b84-5f9eb94ac653"
   },
   "outputs": [
    {
     "data": {
      "text/plain": [
       "0.25    1621.055686\n",
       "0.50    1948.437661\n",
       "0.75    2116.474074\n",
       "Name: Mobile_potential, dtype: float64"
      ]
     },
     "execution_count": 18,
     "metadata": {},
     "output_type": "execute_result"
    }
   ],
   "source": [
    "customer_dt.Mobile_potential.quantile([0.25, 0.5, 0.75])"
   ]
  },
  {
   "cell_type": "code",
   "execution_count": 19,
   "metadata": {
    "colab": {
     "base_uri": "https://localhost:8080/"
    },
    "executionInfo": {
     "elapsed": 105,
     "status": "ok",
     "timestamp": 1624201477935,
     "user": {
      "displayName": "ARIADNA NING MORANCHO",
      "photoUrl": "",
      "userId": "02737535556598089552"
     },
     "user_tz": -120
    },
    "id": "DbuoXyaAXB2T",
    "outputId": "69168151-578b-4e91-c3aa-2e43ce1026ad"
   },
   "outputs": [
    {
     "data": {
      "text/plain": [
       "0.25    14.0\n",
       "0.50    21.0\n",
       "0.75    31.0\n",
       "Name: CNT_EMPLOYEE, dtype: float64"
      ]
     },
     "execution_count": 19,
     "metadata": {},
     "output_type": "execute_result"
    }
   ],
   "source": [
    "customer_dt.CNT_EMPLOYEE.quantile([0.25, 0.5, 0.75])"
   ]
  },
  {
   "cell_type": "code",
   "execution_count": 20,
   "metadata": {
    "colab": {
     "base_uri": "https://localhost:8080/"
    },
    "executionInfo": {
     "elapsed": 99,
     "status": "ok",
     "timestamp": 1624201477937,
     "user": {
      "displayName": "ARIADNA NING MORANCHO",
      "photoUrl": "",
      "userId": "02737535556598089552"
     },
     "user_tz": -120
    },
    "id": "Z4j6kj-KXXPD",
    "outputId": "d73e16a6-2345-4483-83e7-60747e5cf5bf"
   },
   "outputs": [
    {
     "data": {
      "text/plain": [
       "0.25     71.5\n",
       "0.50    203.0\n",
       "0.75    519.0\n",
       "Name: CNT_CB_DENSITY, dtype: float64"
      ]
     },
     "execution_count": 20,
     "metadata": {},
     "output_type": "execute_result"
    }
   ],
   "source": [
    "customer_dt.CNT_CB_DENSITY.quantile([0.25, 0.5, 0.75])"
   ]
  },
  {
   "cell_type": "code",
   "execution_count": 21,
   "metadata": {
    "colab": {
     "base_uri": "https://localhost:8080/",
     "height": 200
    },
    "executionInfo": {
     "elapsed": 96,
     "status": "ok",
     "timestamp": 1624201477941,
     "user": {
      "displayName": "ARIADNA NING MORANCHO",
      "photoUrl": "",
      "userId": "02737535556598089552"
     },
     "user_tz": -120
    },
    "id": "zOeqXxLw0Ypk",
    "outputId": "6596c361-0f8e-41f2-ab8a-4ebdacc2c90e"
   },
   "outputs": [
    {
     "data": {
      "text/html": [
       "<div>\n",
       "<style scoped>\n",
       "    .dataframe tbody tr th:only-of-type {\n",
       "        vertical-align: middle;\n",
       "    }\n",
       "\n",
       "    .dataframe tbody tr th {\n",
       "        vertical-align: top;\n",
       "    }\n",
       "\n",
       "    .dataframe thead th {\n",
       "        text-align: right;\n",
       "    }\n",
       "</style>\n",
       "<table border=\"1\" class=\"dataframe\">\n",
       "  <thead>\n",
       "    <tr style=\"text-align: right;\">\n",
       "      <th></th>\n",
       "      <th>City</th>\n",
       "      <th>Customer_Flag</th>\n",
       "      <th>Revenue</th>\n",
       "      <th>Sector</th>\n",
       "      <th>Legal_Form_Code</th>\n",
       "      <th>CNT_EMPLOYEE</th>\n",
       "      <th>CNT_CB_DENSITY</th>\n",
       "      <th>CNT_CB_MOB_DENSITY</th>\n",
       "      <th>CNT_CB_FN_DENSITY</th>\n",
       "      <th>Mobile_potential</th>\n",
       "    </tr>\n",
       "  </thead>\n",
       "  <tbody>\n",
       "    <tr>\n",
       "      <th>0</th>\n",
       "      <td>Bremen</td>\n",
       "      <td>0</td>\n",
       "      <td>21339309.0</td>\n",
       "      <td>26.0</td>\n",
       "      <td>14.0</td>\n",
       "      <td>25</td>\n",
       "      <td>161.0</td>\n",
       "      <td>154.0</td>\n",
       "      <td>10.0</td>\n",
       "      <td>1783.999887</td>\n",
       "    </tr>\n",
       "    <tr>\n",
       "      <th>5</th>\n",
       "      <td>Düsseldorf</td>\n",
       "      <td>0</td>\n",
       "      <td>8500000.0</td>\n",
       "      <td>59.0</td>\n",
       "      <td>14.0</td>\n",
       "      <td>27</td>\n",
       "      <td>869.0</td>\n",
       "      <td>857.0</td>\n",
       "      <td>59.0</td>\n",
       "      <td>2187.053822</td>\n",
       "    </tr>\n",
       "    <tr>\n",
       "      <th>6</th>\n",
       "      <td>Halle</td>\n",
       "      <td>0</td>\n",
       "      <td>2100000.0</td>\n",
       "      <td>73.0</td>\n",
       "      <td>20.0</td>\n",
       "      <td>35</td>\n",
       "      <td>209.0</td>\n",
       "      <td>206.0</td>\n",
       "      <td>9.0</td>\n",
       "      <td>2017.911602</td>\n",
       "    </tr>\n",
       "    <tr>\n",
       "      <th>8</th>\n",
       "      <td>Stuttgart</td>\n",
       "      <td>0</td>\n",
       "      <td>630000.0</td>\n",
       "      <td>56.0</td>\n",
       "      <td>14.0</td>\n",
       "      <td>10</td>\n",
       "      <td>749.0</td>\n",
       "      <td>727.0</td>\n",
       "      <td>51.0</td>\n",
       "      <td>1390.181234</td>\n",
       "    </tr>\n",
       "    <tr>\n",
       "      <th>9</th>\n",
       "      <td>Porta Westfalica</td>\n",
       "      <td>0</td>\n",
       "      <td>149400000.0</td>\n",
       "      <td>43.0</td>\n",
       "      <td>22.0</td>\n",
       "      <td>47</td>\n",
       "      <td>110.0</td>\n",
       "      <td>107.0</td>\n",
       "      <td>4.0</td>\n",
       "      <td>1774.375387</td>\n",
       "    </tr>\n",
       "  </tbody>\n",
       "</table>\n",
       "</div>"
      ],
      "text/plain": [
       "               City  Customer_Flag      Revenue  Sector  Legal_Form_Code  \\\n",
       "0            Bremen              0   21339309.0    26.0             14.0   \n",
       "5        Düsseldorf              0    8500000.0    59.0             14.0   \n",
       "6             Halle              0    2100000.0    73.0             20.0   \n",
       "8         Stuttgart              0     630000.0    56.0             14.0   \n",
       "9  Porta Westfalica              0  149400000.0    43.0             22.0   \n",
       "\n",
       "   CNT_EMPLOYEE  CNT_CB_DENSITY  CNT_CB_MOB_DENSITY  CNT_CB_FN_DENSITY  \\\n",
       "0            25           161.0               154.0               10.0   \n",
       "5            27           869.0               857.0               59.0   \n",
       "6            35           209.0               206.0                9.0   \n",
       "8            10           749.0               727.0               51.0   \n",
       "9            47           110.0               107.0                4.0   \n",
       "\n",
       "   Mobile_potential  \n",
       "0       1783.999887  \n",
       "5       2187.053822  \n",
       "6       2017.911602  \n",
       "8       1390.181234  \n",
       "9       1774.375387  "
      ]
     },
     "execution_count": 21,
     "metadata": {},
     "output_type": "execute_result"
    }
   ],
   "source": [
    "noncustomer_dt = market_dt[market_dt['Customer_Flag'] == 0]\n",
    "noncustomer_dt.head()"
   ]
  },
  {
   "cell_type": "code",
   "execution_count": 22,
   "metadata": {
    "colab": {
     "base_uri": "https://localhost:8080/"
    },
    "executionInfo": {
     "elapsed": 95,
     "status": "ok",
     "timestamp": 1624201477942,
     "user": {
      "displayName": "ARIADNA NING MORANCHO",
      "photoUrl": "",
      "userId": "02737535556598089552"
     },
     "user_tz": -120
    },
    "id": "-cjtFibsHZm2",
    "outputId": "0764e35c-dfaf-4bd0-f645-141066b2481a"
   },
   "outputs": [
    {
     "name": "stdout",
     "output_type": "stream",
     "text": [
      "<class 'pandas.core.frame.DataFrame'>\n",
      "Int64Index: 5876 entries, 0 to 11546\n",
      "Data columns (total 10 columns):\n",
      " #   Column              Non-Null Count  Dtype  \n",
      "---  ------              --------------  -----  \n",
      " 0   City                5876 non-null   object \n",
      " 1   Customer_Flag       5876 non-null   int64  \n",
      " 2   Revenue             5876 non-null   float64\n",
      " 3   Sector              5876 non-null   float64\n",
      " 4   Legal_Form_Code     5876 non-null   float64\n",
      " 5   CNT_EMPLOYEE        5876 non-null   int64  \n",
      " 6   CNT_CB_DENSITY      5876 non-null   float64\n",
      " 7   CNT_CB_MOB_DENSITY  5876 non-null   float64\n",
      " 8   CNT_CB_FN_DENSITY   5876 non-null   float64\n",
      " 9   Mobile_potential    5876 non-null   float64\n",
      "dtypes: float64(7), int64(2), object(1)\n",
      "memory usage: 505.0+ KB\n"
     ]
    }
   ],
   "source": [
    "noncustomer_dt.info()"
   ]
  },
  {
   "cell_type": "code",
   "execution_count": 23,
   "metadata": {
    "colab": {
     "base_uri": "https://localhost:8080/"
    },
    "executionInfo": {
     "elapsed": 90,
     "status": "ok",
     "timestamp": 1624201477944,
     "user": {
      "displayName": "ARIADNA NING MORANCHO",
      "photoUrl": "",
      "userId": "02737535556598089552"
     },
     "user_tz": -120
    },
    "id": "jsckaYb0_gBE",
    "outputId": "b9547e25-bfbf-4c1c-dccc-e3bfa9c39fd1"
   },
   "outputs": [
    {
     "data": {
      "text/plain": [
       "0.25     902986.0\n",
       "0.50    1750000.0\n",
       "0.75    3501123.5\n",
       "Name: Revenue, dtype: float64"
      ]
     },
     "execution_count": 23,
     "metadata": {},
     "output_type": "execute_result"
    }
   ],
   "source": [
    "noncustomer_dt.Revenue.quantile([0.25, 0.5, 0.75])"
   ]
  },
  {
   "cell_type": "code",
   "execution_count": 24,
   "metadata": {
    "colab": {
     "base_uri": "https://localhost:8080/"
    },
    "executionInfo": {
     "elapsed": 83,
     "status": "ok",
     "timestamp": 1624201477945,
     "user": {
      "displayName": "ARIADNA NING MORANCHO",
      "photoUrl": "",
      "userId": "02737535556598089552"
     },
     "user_tz": -120
    },
    "id": "CYt2RuTi_g-2",
    "outputId": "cf6e28ac-e815-4657-9fe8-7d3701fe1071"
   },
   "outputs": [
    {
     "data": {
      "text/plain": [
       "0.25    1513.383597\n",
       "0.50    1797.054278\n",
       "0.75    2035.082840\n",
       "Name: Mobile_potential, dtype: float64"
      ]
     },
     "execution_count": 24,
     "metadata": {},
     "output_type": "execute_result"
    }
   ],
   "source": [
    "noncustomer_dt.Mobile_potential.quantile([0.25, 0.5, 0.75])"
   ]
  },
  {
   "cell_type": "code",
   "execution_count": 25,
   "metadata": {
    "colab": {
     "base_uri": "https://localhost:8080/"
    },
    "executionInfo": {
     "elapsed": 77,
     "status": "ok",
     "timestamp": 1624201477947,
     "user": {
      "displayName": "ARIADNA NING MORANCHO",
      "photoUrl": "",
      "userId": "02737535556598089552"
     },
     "user_tz": -120
    },
    "id": "umRsHZX2YGK5",
    "outputId": "781266fd-0275-41e6-931d-a6e1274eeec4"
   },
   "outputs": [
    {
     "data": {
      "text/plain": [
       "0.25    12.0\n",
       "0.50    18.0\n",
       "0.75    27.0\n",
       "Name: CNT_EMPLOYEE, dtype: float64"
      ]
     },
     "execution_count": 25,
     "metadata": {},
     "output_type": "execute_result"
    }
   ],
   "source": [
    "noncustomer_dt.CNT_EMPLOYEE.quantile([0.25, 0.5, 0.75])"
   ]
  },
  {
   "cell_type": "code",
   "execution_count": 26,
   "metadata": {
    "colab": {
     "base_uri": "https://localhost:8080/"
    },
    "executionInfo": {
     "elapsed": 70,
     "status": "ok",
     "timestamp": 1624201477948,
     "user": {
      "displayName": "ARIADNA NING MORANCHO",
      "photoUrl": "",
      "userId": "02737535556598089552"
     },
     "user_tz": -120
    },
    "id": "ej4r2T--YGj8",
    "outputId": "29e1e76e-365a-40ab-cb5c-546f5864eab2"
   },
   "outputs": [
    {
     "data": {
      "text/plain": [
       "0.25     37.00\n",
       "0.50    113.00\n",
       "0.75    407.25\n",
       "Name: CNT_CB_DENSITY, dtype: float64"
      ]
     },
     "execution_count": 26,
     "metadata": {},
     "output_type": "execute_result"
    }
   ],
   "source": [
    "noncustomer_dt.CNT_CB_DENSITY.quantile([0.25, 0.5, 0.75])"
   ]
  },
  {
   "cell_type": "code",
   "execution_count": 27,
   "metadata": {
    "colab": {
     "base_uri": "https://localhost:8080/"
    },
    "executionInfo": {
     "elapsed": 63,
     "status": "ok",
     "timestamp": 1624201477950,
     "user": {
      "displayName": "ARIADNA NING MORANCHO",
      "photoUrl": "",
      "userId": "02737535556598089552"
     },
     "user_tz": -120
    },
    "id": "jAl6D6MIYwO9",
    "outputId": "eac22a45-d03e-4b2c-cbfe-e5f1abe8c74c"
   },
   "outputs": [
    {
     "name": "stdout",
     "output_type": "stream",
     "text": [
      "50\n",
      "50\n"
     ]
    }
   ],
   "source": [
    "print(noncustomer_dt[\"CNT_EMPLOYEE\"].max())\n",
    "print(customer_dt[\"CNT_EMPLOYEE\"].max())"
   ]
  },
  {
   "cell_type": "code",
   "execution_count": 28,
   "metadata": {
    "colab": {
     "base_uri": "https://localhost:8080/"
    },
    "executionInfo": {
     "elapsed": 55,
     "status": "ok",
     "timestamp": 1624201477951,
     "user": {
      "displayName": "ARIADNA NING MORANCHO",
      "photoUrl": "",
      "userId": "02737535556598089552"
     },
     "user_tz": -120
    },
    "id": "oZvauEJrbIII",
    "outputId": "87e9b268-84b5-4a34-af41-1c8a9e15d466"
   },
   "outputs": [
    {
     "name": "stdout",
     "output_type": "stream",
     "text": [
      "Customer outliers: 95\n",
      "Non-customer outliers: 569\n"
     ]
    }
   ],
   "source": [
    "#using 1.5IQR rule to count outliers in Revenue\n",
    "#customer\n",
    "Q1 = customer_dt[\"Revenue\"].quantile(0.25)\n",
    "Q3 = customer_dt[\"Revenue\"].quantile(0.75)\n",
    "IQR = Q3 - Q1\n",
    "\n",
    "print(\"Customer outliers:\", ((customer_dt[\"Revenue\"] < (Q1 - 1.5 * IQR)) | (customer_dt[\"Revenue\"] > (Q3 + 1.5 * IQR))).sum())\n",
    "\n",
    "#non-custommer\n",
    "Q1 = noncustomer_dt[\"Revenue\"].quantile(0.25)\n",
    "Q3 = noncustomer_dt[\"Revenue\"].quantile(0.75)\n",
    "IQR = Q3 - Q1\n",
    "\n",
    "print(\"Non-customer outliers:\", ((noncustomer_dt[\"Revenue\"] < (Q1 - 1.5 * IQR)) | (noncustomer_dt[\"Revenue\"] > (Q3 + 1.5 * IQR))).sum())"
   ]
  },
  {
   "cell_type": "code",
   "execution_count": 29,
   "metadata": {
    "colab": {
     "base_uri": "https://localhost:8080/",
     "height": 1000
    },
    "executionInfo": {
     "elapsed": 1080,
     "status": "ok",
     "timestamp": 1624201478983,
     "user": {
      "displayName": "ARIADNA NING MORANCHO",
      "photoUrl": "",
      "userId": "02737535556598089552"
     },
     "user_tz": -120
    },
    "id": "enEv2n7wXlBB",
    "outputId": "cb83ca44-7864-49d7-ff86-019a86b0c46a"
   },
   "outputs": [
    {
     "data": {
      "image/png": "[encoded data removed]",
      "text/plain": [
       "<Figure size 432x288 with 1 Axes>"
      ]
     },
     "metadata": {
      "needs_background": "light"
     },
     "output_type": "display_data"
    },
    {
     "data": {
      "image/png": "[encoded data removed]",
      "text/plain": [
       "<Figure size 432x288 with 1 Axes>"
      ]
     },
     "metadata": {
      "needs_background": "light"
     },
     "output_type": "display_data"
    },
    {
     "data": {
      "image/png": "[encoded data removed]",
      "text/plain": [
       "<Figure size 432x288 with 1 Axes>"
      ]
     },
     "metadata": {
      "needs_background": "light"
     },
     "output_type": "display_data"
    },
    {
     "data": {
      "image/png": "[encoded data removed]",
      "text/plain": [
       "<Figure size 432x288 with 1 Axes>"
      ]
     },
     "metadata": {
      "needs_background": "light"
     },
     "output_type": "display_data"
    }
   ],
   "source": [
    "data = [customer_dt['Revenue'], noncustomer_dt ['Revenue']]\n",
    "fig1, ax1 = pyplot.subplots()\n",
    "ax1.set_title('Revenues')\n",
    "ax1.boxplot(data, labels = [\"customer\", \"noncustomer\"])\n",
    "pyplot.show()\n",
    "\n",
    "data = [customer_dt['CNT_EMPLOYEE'], noncustomer_dt ['CNT_EMPLOYEE']]\n",
    "fig2, ax2 = pyplot.subplots()\n",
    "ax2.set_title('CNT_EMPLOYEE')\n",
    "ax2.boxplot(data, labels = [\"customer\", \"noncustomer\"])\n",
    "pyplot.show()\n",
    "\n",
    "data = [customer_dt['Mobile_potential'], noncustomer_dt ['Mobile_potential']]\n",
    "fig3, ax3 = pyplot.subplots()\n",
    "ax3.set_title('Mobile_potential')\n",
    "ax3.boxplot(data, labels = [\"customer\", \"noncustomer\"])\n",
    "pyplot.show()\n",
    "\n",
    "data = [customer_dt['CNT_CB_DENSITY'], noncustomer_dt ['CNT_CB_DENSITY']]\n",
    "fig4, ax4 = pyplot.subplots()\n",
    "ax4.set_title('CNT_CB_DENSITY')\n",
    "ax4.boxplot(data, labels = [\"customer\", \"noncustomer\"])\n",
    "pyplot.show()"
   ]
  },
  {
   "cell_type": "markdown",
   "metadata": {
    "id": "P4LaqjUyKLhm"
   },
   "source": [
    "As we observe from the boxplots, some of them present outliers. There are several mechanisms to eliminate outliers. One option is to eliminate the values higher than a statistical value for each numerical variable."
   ]
  },
  {
   "cell_type": "markdown",
   "metadata": {
    "id": "puFRcL_-KLhn"
   },
   "source": [
    "[**EX4**] [**CODE**] Remove the values higher than 5* IQR for each variable: `Revenue`, `CNT_EMPLOYEE`, `Mobile_potential`, `CNT_CB_DENSITY`, `CNT_CB_MOB_DENSITY`and `CNT_CB_FN_DENSITY`. Compare with the boxplot of the previous exercise [**EX3**] and explain the differences."
   ]
  },
  {
   "cell_type": "code",
   "execution_count": 30,
   "metadata": {
    "executionInfo": {
     "elapsed": 29,
     "status": "ok",
     "timestamp": 1624201478984,
     "user": {
      "displayName": "ARIADNA NING MORANCHO",
      "photoUrl": "",
      "userId": "02737535556598089552"
     },
     "user_tz": -120
    },
    "id": "3buwWH_AAzcC"
   },
   "outputs": [],
   "source": [
    "def compute_IQR(column):\n",
    "  q1, q3 = np.percentile(column, [25, 75])\n",
    "  return q3 - q1"
   ]
  },
  {
   "cell_type": "code",
   "execution_count": 31,
   "metadata": {
    "executionInfo": {
     "elapsed": 28,
     "status": "ok",
     "timestamp": 1624201478985,
     "user": {
      "displayName": "ARIADNA NING MORANCHO",
      "photoUrl": "",
      "userId": "02737535556598089552"
     },
     "user_tz": -120
    },
    "id": "vBt6EySXCKEy"
   },
   "outputs": [],
   "source": [
    "customer_dt_IQR = customer_dt[(customer_dt['Revenue'] <= 5*compute_IQR(customer_dt[\"Revenue\"])) &\n",
    "                              (customer_dt['CNT_EMPLOYEE'] <= 5*compute_IQR(customer_dt[\"CNT_EMPLOYEE\"])) &\n",
    "                              (customer_dt['Mobile_potential'] <= 5*compute_IQR(customer_dt[\"Mobile_potential\"])) &\n",
    "                              (customer_dt['CNT_CB_DENSITY'] <= 5*compute_IQR(customer_dt[\"CNT_CB_DENSITY\"])) &\n",
    "                              (customer_dt['CNT_CB_MOB_DENSITY'] <= 5*compute_IQR(customer_dt[\"CNT_CB_MOB_DENSITY\"])) &\n",
    "                              (customer_dt['CNT_CB_FN_DENSITY'] <= 5*compute_IQR(customer_dt[\"CNT_CB_FN_DENSITY\"]))]"
   ]
  },
  {
   "cell_type": "code",
   "execution_count": 32,
   "metadata": {
    "colab": {
     "base_uri": "https://localhost:8080/"
    },
    "executionInfo": {
     "elapsed": 27,
     "status": "ok",
     "timestamp": 1624201478986,
     "user": {
      "displayName": "ARIADNA NING MORANCHO",
      "photoUrl": "",
      "userId": "02737535556598089552"
     },
     "user_tz": -120
    },
    "id": "JDT0H_7KHLyL",
    "outputId": "201ed698-10dc-4e03-81e7-d117a158fa80"
   },
   "outputs": [
    {
     "name": "stdout",
     "output_type": "stream",
     "text": [
      "<class 'pandas.core.frame.DataFrame'>\n",
      "Int64Index: 838 entries, 11548 to 13321\n",
      "Data columns (total 10 columns):\n",
      " #   Column              Non-Null Count  Dtype  \n",
      "---  ------              --------------  -----  \n",
      " 0   City                838 non-null    object \n",
      " 1   Customer_Flag       838 non-null    int64  \n",
      " 2   Revenue             838 non-null    float64\n",
      " 3   Sector              838 non-null    float64\n",
      " 4   Legal_Form_Code     838 non-null    float64\n",
      " 5   CNT_EMPLOYEE        838 non-null    int64  \n",
      " 6   CNT_CB_DENSITY      838 non-null    float64\n",
      " 7   CNT_CB_MOB_DENSITY  838 non-null    float64\n",
      " 8   CNT_CB_FN_DENSITY   838 non-null    float64\n",
      " 9   Mobile_potential    838 non-null    float64\n",
      "dtypes: float64(7), int64(2), object(1)\n",
      "memory usage: 72.0+ KB\n"
     ]
    }
   ],
   "source": [
    "customer_dt_IQR.info()"
   ]
  },
  {
   "cell_type": "code",
   "execution_count": 33,
   "metadata": {
    "executionInfo": {
     "elapsed": 23,
     "status": "ok",
     "timestamp": 1624201478987,
     "user": {
      "displayName": "ARIADNA NING MORANCHO",
      "photoUrl": "",
      "userId": "02737535556598089552"
     },
     "user_tz": -120
    },
    "id": "MdWpX23FEBHJ"
   },
   "outputs": [],
   "source": [
    "noncustomer_dt_IQR = noncustomer_dt[(noncustomer_dt['Revenue'] <= 5*compute_IQR(noncustomer_dt[\"Revenue\"])) &\n",
    "                                    (noncustomer_dt['CNT_EMPLOYEE'] <= 5*compute_IQR(noncustomer_dt[\"CNT_EMPLOYEE\"])) &\n",
    "                                    (noncustomer_dt['Mobile_potential'] <= 5*compute_IQR(noncustomer_dt[\"Mobile_potential\"])) &\n",
    "                                    (noncustomer_dt['CNT_CB_DENSITY'] <= 5*compute_IQR(noncustomer_dt[\"CNT_CB_DENSITY\"])) &\n",
    "                                    (noncustomer_dt['CNT_CB_MOB_DENSITY'] <= 5*compute_IQR(noncustomer_dt[\"CNT_CB_MOB_DENSITY\"])) &\n",
    "                                    (noncustomer_dt['CNT_CB_FN_DENSITY'] <= 5*compute_IQR(noncustomer_dt[\"CNT_CB_FN_DENSITY\"]))]"
   ]
  },
  {
   "cell_type": "code",
   "execution_count": 34,
   "metadata": {
    "colab": {
     "base_uri": "https://localhost:8080/"
    },
    "executionInfo": {
     "elapsed": 23,
     "status": "ok",
     "timestamp": 1624201478989,
     "user": {
      "displayName": "ARIADNA NING MORANCHO",
      "photoUrl": "",
      "userId": "02737535556598089552"
     },
     "user_tz": -120
    },
    "id": "5TaqvP9cHh-s",
    "outputId": "373b858c-5a0b-4c32-d8bb-6f756536bc53"
   },
   "outputs": [
    {
     "name": "stdout",
     "output_type": "stream",
     "text": [
      "<class 'pandas.core.frame.DataFrame'>\n",
      "Int64Index: 4833 entries, 5 to 11546\n",
      "Data columns (total 10 columns):\n",
      " #   Column              Non-Null Count  Dtype  \n",
      "---  ------              --------------  -----  \n",
      " 0   City                4833 non-null   object \n",
      " 1   Customer_Flag       4833 non-null   int64  \n",
      " 2   Revenue             4833 non-null   float64\n",
      " 3   Sector              4833 non-null   float64\n",
      " 4   Legal_Form_Code     4833 non-null   float64\n",
      " 5   CNT_EMPLOYEE        4833 non-null   int64  \n",
      " 6   CNT_CB_DENSITY      4833 non-null   float64\n",
      " 7   CNT_CB_MOB_DENSITY  4833 non-null   float64\n",
      " 8   CNT_CB_FN_DENSITY   4833 non-null   float64\n",
      " 9   Mobile_potential    4833 non-null   float64\n",
      "dtypes: float64(7), int64(2), object(1)\n",
      "memory usage: 415.3+ KB\n"
     ]
    }
   ],
   "source": [
    "noncustomer_dt_IQR.info()"
   ]
  },
  {
   "cell_type": "code",
   "execution_count": 35,
   "metadata": {
    "colab": {
     "base_uri": "https://localhost:8080/",
     "height": 1000
    },
    "executionInfo": {
     "elapsed": 794,
     "status": "ok",
     "timestamp": 1624201479768,
     "user": {
      "displayName": "ARIADNA NING MORANCHO",
      "photoUrl": "",
      "userId": "02737535556598089552"
     },
     "user_tz": -120
    },
    "id": "HJjiKoROjiJp",
    "outputId": "ee99c604-cb4f-4b32-8f98-a326d4e49fab"
   },
   "outputs": [
    {
     "data": {
      "image/png": "[encoded data removed]",
      "text/plain": [
       "<Figure size 432x288 with 1 Axes>"
      ]
     },
     "metadata": {
      "needs_background": "light"
     },
     "output_type": "display_data"
    },
    {
     "data": {
      "image/png": "[encoded data removed]",
      "text/plain": [
       "<Figure size 432x288 with 1 Axes>"
      ]
     },
     "metadata": {
      "needs_background": "light"
     },
     "output_type": "display_data"
    },
    {
     "data": {
      "image/png": "[encoded data removed]",
      "text/plain": [
       "<Figure size 432x288 with 1 Axes>"
      ]
     },
     "metadata": {
      "needs_background": "light"
     },
     "output_type": "display_data"
    },
    {
     "data": {
      "image/png": "[encoded data removed]",
      "text/plain": [
       "<Figure size 432x288 with 1 Axes>"
      ]
     },
     "metadata": {
      "needs_background": "light"
     },
     "output_type": "display_data"
    }
   ],
   "source": [
    "data = [customer_dt['Revenue'], noncustomer_dt ['Revenue']]\n",
    "fig1, ax1 = pyplot.subplots()\n",
    "ax1.set_title('Revenues')\n",
    "ax1.boxplot(data, labels = [\"customer\", \"noncustomer\"])\n",
    "pyplot.show()\n",
    "\n",
    "data = [customer_dt['CNT_EMPLOYEE'], noncustomer_dt ['CNT_EMPLOYEE']]\n",
    "fig2, ax2 = pyplot.subplots()\n",
    "ax2.set_title('CNT_EMPLOYEE')\n",
    "ax2.boxplot(data, labels = [\"customer\", \"noncustomer\"])\n",
    "pyplot.show()\n",
    "\n",
    "data = [customer_dt['Mobile_potential'], noncustomer_dt ['Mobile_potential']]\n",
    "fig3, ax3 = pyplot.subplots()\n",
    "ax3.set_title('Mobile_potential')\n",
    "ax3.boxplot(data, labels = [\"customer\", \"noncustomer\"])\n",
    "pyplot.show()\n",
    "\n",
    "data = [customer_dt['CNT_CB_DENSITY'], noncustomer_dt ['CNT_CB_DENSITY']]\n",
    "fig4, ax4 = pyplot.subplots()\n",
    "ax4.set_title('CNT_CB_DENSITY')\n",
    "ax4.boxplot(data, labels = [\"customer\", \"noncustomer\"])\n",
    "pyplot.show()"
   ]
  },
  {
   "cell_type": "markdown",
   "metadata": {
    "id": "QT-ULfjoKLhv"
   },
   "source": [
    "On the other hand, before applying any classification algorithm, it is necessary to transform non-numerical variables. The most common transformations are **coding as integer** or **coding as dummies**. Before deciding the mechanism it is important to analyze, for each categorical variable, their number of different values and their frequencies. In case of high number of possible values in comparision with the size of the dataset, **dummy** transformation could generate sparse matrix."
   ]
  },
  {
   "cell_type": "markdown",
   "metadata": {
    "id": "TfWf0K_-KLhv"
   },
   "source": [
    "[**EX5**] [**REPORT**] Calculate the ratio of the values of `City` for `customer_dt` and `noncustomer_dt` datasets. Compare the ratio of each category of each dataset."
   ]
  },
  {
   "cell_type": "code",
   "execution_count": 36,
   "metadata": {
    "executionInfo": {
     "elapsed": 31,
     "status": "ok",
     "timestamp": 1624201479770,
     "user": {
      "displayName": "ARIADNA NING MORANCHO",
      "photoUrl": "",
      "userId": "02737535556598089552"
     },
     "user_tz": -120
    },
    "id": "qi_-uHXTlzYb"
   },
   "outputs": [],
   "source": [
    "customer_dt=customer_dt_IQR\n",
    "noncustomer_dt= noncustomer_dt_IQR"
   ]
  },
  {
   "cell_type": "code",
   "execution_count": 37,
   "metadata": {
    "colab": {
     "base_uri": "https://localhost:8080/"
    },
    "executionInfo": {
     "elapsed": 30,
     "status": "ok",
     "timestamp": 1624201479771,
     "user": {
      "displayName": "ARIADNA NING MORANCHO",
      "photoUrl": "",
      "userId": "02737535556598089552"
     },
     "user_tz": -120
    },
    "id": "iEDHe1MDkhqP",
    "outputId": "ae77086a-20dc-4ac1-abba-972114c63cf4"
   },
   "outputs": [
    {
     "name": "stdout",
     "output_type": "stream",
     "text": [
      "Ratio of City values for customers:\n",
      " München         0.025060\n",
      "Köln            0.020286\n",
      "Chemnitz        0.019093\n",
      "Frankfurt       0.014320\n",
      "Stuttgart       0.013126\n",
      "                  ...   \n",
      "Wolfschlugen    0.001193\n",
      "Teningen        0.001193\n",
      "Alsdorf         0.001193\n",
      "Nordkirchen     0.001193\n",
      "Anger           0.001193\n",
      "Name: City, Length: 503, dtype: float64\n",
      "\n",
      "Ratio of City values for noncustomers:\n",
      " Köln              0.016139\n",
      "Stuttgart         0.010139\n",
      "Bremen            0.010139\n",
      "Dortmund          0.009518\n",
      "Frankfurt         0.008897\n",
      "                    ...   \n",
      "Völklingen        0.000207\n",
      "Pöttmes           0.000207\n",
      "Feldafing         0.000207\n",
      "Ubstadt-Weiher    0.000207\n",
      "Wilsum            0.000207\n",
      "Name: City, Length: 2110, dtype: float64\n"
     ]
    }
   ],
   "source": [
    "print('Ratio of City values for customers:\\n', customer_dt['City'].value_counts(normalize = True))\n",
    "print('\\nRatio of City values for noncustomers:\\n', noncustomer_dt['City'].value_counts(normalize = True))"
   ]
  },
  {
   "cell_type": "markdown",
   "metadata": {
    "id": "0bCyWWPTKLhy"
   },
   "source": [
    "As the number of distinct values is high, we will apply a **integer** encoding through the LabelEncoder() transformation as follows:"
   ]
  },
  {
   "cell_type": "code",
   "execution_count": 38,
   "metadata": {
    "executionInfo": {
     "elapsed": 29,
     "status": "ok",
     "timestamp": 1624201479772,
     "user": {
      "displayName": "ARIADNA NING MORANCHO",
      "photoUrl": "",
      "userId": "02737535556598089552"
     },
     "user_tz": -120
    },
    "id": "d3cN00r-KLhz"
   },
   "outputs": [],
   "source": [
    "City_Categ=customer_dt['City'].append(noncustomer_dt['City'])"
   ]
  },
  {
   "cell_type": "code",
   "execution_count": 39,
   "metadata": {
    "executionInfo": {
     "elapsed": 29,
     "status": "ok",
     "timestamp": 1624201479774,
     "user": {
      "displayName": "ARIADNA NING MORANCHO",
      "photoUrl": "",
      "userId": "02737535556598089552"
     },
     "user_tz": -120
    },
    "id": "9fKR-_uXKLh2"
   },
   "outputs": [],
   "source": [
    "city_encoder=LabelEncoder()\n",
    "city_encoder.fit(City_Categ.values)\n",
    "customer_dt['City_coded']=city_encoder.transform(customer_dt['City'].values)\n",
    "noncustomer_dt['City_coded']=city_encoder.transform(noncustomer_dt['City'].values)"
   ]
  },
  {
   "cell_type": "code",
   "execution_count": 40,
   "metadata": {
    "colab": {
     "base_uri": "https://localhost:8080/",
     "height": 200
    },
    "executionInfo": {
     "elapsed": 28,
     "status": "ok",
     "timestamp": 1624201479775,
     "user": {
      "displayName": "ARIADNA NING MORANCHO",
      "photoUrl": "",
      "userId": "02737535556598089552"
     },
     "user_tz": -120
    },
    "id": "azGmQ302KLh4",
    "outputId": "d1ee6c7a-1fe0-4555-8223-f38cfb011fbf"
   },
   "outputs": [
    {
     "data": {
      "text/html": [
       "<div>\n",
       "<style scoped>\n",
       "    .dataframe tbody tr th:only-of-type {\n",
       "        vertical-align: middle;\n",
       "    }\n",
       "\n",
       "    .dataframe tbody tr th {\n",
       "        vertical-align: top;\n",
       "    }\n",
       "\n",
       "    .dataframe thead th {\n",
       "        text-align: right;\n",
       "    }\n",
       "</style>\n",
       "<table border=\"1\" class=\"dataframe\">\n",
       "  <thead>\n",
       "    <tr style=\"text-align: right;\">\n",
       "      <th></th>\n",
       "      <th>City</th>\n",
       "      <th>Customer_Flag</th>\n",
       "      <th>Revenue</th>\n",
       "      <th>Sector</th>\n",
       "      <th>Legal_Form_Code</th>\n",
       "      <th>CNT_EMPLOYEE</th>\n",
       "      <th>CNT_CB_DENSITY</th>\n",
       "      <th>CNT_CB_MOB_DENSITY</th>\n",
       "      <th>CNT_CB_FN_DENSITY</th>\n",
       "      <th>Mobile_potential</th>\n",
       "      <th>City_coded</th>\n",
       "    </tr>\n",
       "  </thead>\n",
       "  <tbody>\n",
       "    <tr>\n",
       "      <th>11548</th>\n",
       "      <td>Haar</td>\n",
       "      <td>1</td>\n",
       "      <td>4000000.0</td>\n",
       "      <td>42.0</td>\n",
       "      <td>14.0</td>\n",
       "      <td>13</td>\n",
       "      <td>891.0</td>\n",
       "      <td>867.0</td>\n",
       "      <td>62.0</td>\n",
       "      <td>1778.004205</td>\n",
       "      <td>772</td>\n",
       "    </tr>\n",
       "    <tr>\n",
       "      <th>11551</th>\n",
       "      <td>Greding</td>\n",
       "      <td>1</td>\n",
       "      <td>11780000.0</td>\n",
       "      <td>74.0</td>\n",
       "      <td>4.0</td>\n",
       "      <td>50</td>\n",
       "      <td>7.0</td>\n",
       "      <td>7.0</td>\n",
       "      <td>0.0</td>\n",
       "      <td>1899.663564</td>\n",
       "      <td>711</td>\n",
       "    </tr>\n",
       "    <tr>\n",
       "      <th>11553</th>\n",
       "      <td>Dörth</td>\n",
       "      <td>1</td>\n",
       "      <td>2050000.0</td>\n",
       "      <td>43.0</td>\n",
       "      <td>14.0</td>\n",
       "      <td>16</td>\n",
       "      <td>30.0</td>\n",
       "      <td>30.0</td>\n",
       "      <td>1.0</td>\n",
       "      <td>1655.520125</td>\n",
       "      <td>434</td>\n",
       "    </tr>\n",
       "    <tr>\n",
       "      <th>11554</th>\n",
       "      <td>Frankfurt</td>\n",
       "      <td>1</td>\n",
       "      <td>853500.0</td>\n",
       "      <td>63.0</td>\n",
       "      <td>14.0</td>\n",
       "      <td>13</td>\n",
       "      <td>870.0</td>\n",
       "      <td>842.0</td>\n",
       "      <td>77.0</td>\n",
       "      <td>1548.507315</td>\n",
       "      <td>580</td>\n",
       "    </tr>\n",
       "    <tr>\n",
       "      <th>11565</th>\n",
       "      <td>Benningen</td>\n",
       "      <td>1</td>\n",
       "      <td>10680000.0</td>\n",
       "      <td>74.0</td>\n",
       "      <td>4.0</td>\n",
       "      <td>16</td>\n",
       "      <td>319.0</td>\n",
       "      <td>317.0</td>\n",
       "      <td>10.0</td>\n",
       "      <td>1746.128813</td>\n",
       "      <td>202</td>\n",
       "    </tr>\n",
       "  </tbody>\n",
       "</table>\n",
       "</div>"
      ],
      "text/plain": [
       "            City  Customer_Flag     Revenue  Sector  Legal_Form_Code  \\\n",
       "11548       Haar              1   4000000.0    42.0             14.0   \n",
       "11551    Greding              1  11780000.0    74.0              4.0   \n",
       "11553      Dörth              1   2050000.0    43.0             14.0   \n",
       "11554  Frankfurt              1    853500.0    63.0             14.0   \n",
       "11565  Benningen              1  10680000.0    74.0              4.0   \n",
       "\n",
       "       CNT_EMPLOYEE  CNT_CB_DENSITY  CNT_CB_MOB_DENSITY  CNT_CB_FN_DENSITY  \\\n",
       "11548            13           891.0               867.0               62.0   \n",
       "11551            50             7.0                 7.0                0.0   \n",
       "11553            16            30.0                30.0                1.0   \n",
       "11554            13           870.0               842.0               77.0   \n",
       "11565            16           319.0               317.0               10.0   \n",
       "\n",
       "       Mobile_potential  City_coded  \n",
       "11548       1778.004205         772  \n",
       "11551       1899.663564         711  \n",
       "11553       1655.520125         434  \n",
       "11554       1548.507315         580  \n",
       "11565       1746.128813         202  "
      ]
     },
     "execution_count": 40,
     "metadata": {},
     "output_type": "execute_result"
    }
   ],
   "source": [
    "customer_dt.head()"
   ]
  },
  {
   "cell_type": "markdown",
   "metadata": {
    "id": "2aT_Zqj4IeDc"
   },
   "source": [
    "![image.png](data:image/png;base64,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)"
   ]
  },
  {
   "cell_type": "markdown",
   "metadata": {
    "id": "i5BjRBWgKLh7"
   },
   "source": [
    "[**EX5**] [**CODE**] Finally before entering in the training stage,  let's create a `final_dataset` that is the result of stacking `customer_dt`and `noncustomer_dt`considering the following variables: `City_coded`, `Revenue`, `Sector`, `Legal_Form_Code`, `CNT_EMPLOYEE`, `CNT_CB_DENSITY`, `CNT_CB_MOB_DENSITY`, `CNT_CB_FN_DENSITY`and `Mobile_potential`. The 'final_dataset' should include a new variable, `Target`, that takes value **0** for noncustomers and **1** for customers registers. The `Target` will distiguish the two classes to train the model."
   ]
  },
  {
   "cell_type": "code",
   "execution_count": 34,
   "metadata": {
    "colab": {
     "base_uri": "https://localhost:8080/",
     "height": 200
    },
    "executionInfo": {
     "elapsed": 650,
     "status": "ok",
     "timestamp": 1624201480403,
     "user": {
      "displayName": "ARIADNA NING MORANCHO",
      "photoUrl": "",
      "userId": "02737535556598089552"
     },
     "user_tz": -120
    },
    "id": "mxAT0upEB35p",
    "outputId": "984810b5-c9b6-443c-8698-19970c6865fc"
   },
   "outputs": [
    {
     "data": {
      "text/html": [
       "<div>\n",
       "<style scoped>\n",
       "    .dataframe tbody tr th:only-of-type {\n",
       "        vertical-align: middle;\n",
       "    }\n",
       "\n",
       "    .dataframe tbody tr th {\n",
       "        vertical-align: top;\n",
       "    }\n",
       "\n",
       "    .dataframe thead th {\n",
       "        text-align: right;\n",
       "    }\n",
       "</style>\n",
       "<table border=\"1\" class=\"dataframe\">\n",
       "  <thead>\n",
       "    <tr style=\"text-align: right;\">\n",
       "      <th></th>\n",
       "      <th>City_coded</th>\n",
       "      <th>Revenue</th>\n",
       "      <th>Sector</th>\n",
       "      <th>Legal_Form_Code</th>\n",
       "      <th>CNT_EMPLOYEE</th>\n",
       "      <th>CNT_CB_DENSITY</th>\n",
       "      <th>CNT_CB_MOB_DENSITY</th>\n",
       "      <th>CNT_CB_FN_DENSITY</th>\n",
       "      <th>Mobile_potential</th>\n",
       "      <th>Target</th>\n",
       "    </tr>\n",
       "  </thead>\n",
       "  <tbody>\n",
       "    <tr>\n",
       "      <th>0</th>\n",
       "      <td>772</td>\n",
       "      <td>4000000.0</td>\n",
       "      <td>42.0</td>\n",
       "      <td>14.0</td>\n",
       "      <td>13</td>\n",
       "      <td>891.0</td>\n",
       "      <td>867.0</td>\n",
       "      <td>62.0</td>\n",
       "      <td>1778.004205</td>\n",
       "      <td>1</td>\n",
       "    </tr>\n",
       "    <tr>\n",
       "      <th>1</th>\n",
       "      <td>711</td>\n",
       "      <td>11780000.0</td>\n",
       "      <td>74.0</td>\n",
       "      <td>4.0</td>\n",
       "      <td>50</td>\n",
       "      <td>7.0</td>\n",
       "      <td>7.0</td>\n",
       "      <td>0.0</td>\n",
       "      <td>1899.663564</td>\n",
       "      <td>1</td>\n",
       "    </tr>\n",
       "    <tr>\n",
       "      <th>2</th>\n",
       "      <td>434</td>\n",
       "      <td>2050000.0</td>\n",
       "      <td>43.0</td>\n",
       "      <td>14.0</td>\n",
       "      <td>16</td>\n",
       "      <td>30.0</td>\n",
       "      <td>30.0</td>\n",
       "      <td>1.0</td>\n",
       "      <td>1655.520125</td>\n",
       "      <td>1</td>\n",
       "    </tr>\n",
       "    <tr>\n",
       "      <th>3</th>\n",
       "      <td>580</td>\n",
       "      <td>853500.0</td>\n",
       "      <td>63.0</td>\n",
       "      <td>14.0</td>\n",
       "      <td>13</td>\n",
       "      <td>870.0</td>\n",
       "      <td>842.0</td>\n",
       "      <td>77.0</td>\n",
       "      <td>1548.507315</td>\n",
       "      <td>1</td>\n",
       "    </tr>\n",
       "    <tr>\n",
       "      <th>4</th>\n",
       "      <td>202</td>\n",
       "      <td>10680000.0</td>\n",
       "      <td>74.0</td>\n",
       "      <td>4.0</td>\n",
       "      <td>16</td>\n",
       "      <td>319.0</td>\n",
       "      <td>317.0</td>\n",
       "      <td>10.0</td>\n",
       "      <td>1746.128813</td>\n",
       "      <td>1</td>\n",
       "    </tr>\n",
       "  </tbody>\n",
       "</table>\n",
       "</div>"
      ],
      "text/plain": [
       "   City_coded     Revenue  Sector  ...  CNT_CB_FN_DENSITY  Mobile_potential  Target\n",
       "0         772   4000000.0    42.0  ...               62.0       1778.004205       1\n",
       "1         711  11780000.0    74.0  ...                0.0       1899.663564       1\n",
       "2         434   2050000.0    43.0  ...                1.0       1655.520125       1\n",
       "3         580    853500.0    63.0  ...               77.0       1548.507315       1\n",
       "4         202  10680000.0    74.0  ...               10.0       1746.128813       1\n",
       "\n",
       "[5 rows x 10 columns]"
      ]
     },
     "execution_count": 34,
     "metadata": {
      "tags": []
     },
     "output_type": "execute_result"
    }
   ],
   "source": [
    "customer_dt= customer_dt.rename(columns={\"Customer_Flag\": \"Target\",})\n",
    "noncustomer_dt= noncustomer_dt.rename(columns={\"Customer_Flag\": \"Target\",})\n",
    "\n",
    "final_dataset= pd.concat([customer_dt, noncustomer_dt],ignore_index=True)\n",
    "final_dataset= final_dataset[[\"City_coded\", \"Revenue\", \"Sector\", \"Legal_Form_Code\", \"CNT_EMPLOYEE\", \"CNT_CB_DENSITY\", \"CNT_CB_MOB_DENSITY\", \"CNT_CB_FN_DENSITY\",\"Mobile_potential\",\"Target\"]]\n",
    "\n",
    "\n",
    "final_dataset.head()"
   ]
  },
  {
   "cell_type": "code",
   "execution_count": 35,
   "metadata": {
    "colab": {
     "base_uri": "https://localhost:8080/",
     "height": 200
    },
    "executionInfo": {
     "elapsed": 33,
     "status": "ok",
     "timestamp": 1624201480404,
     "user": {
      "displayName": "ARIADNA NING MORANCHO",
      "photoUrl": "",
      "userId": "02737535556598089552"
     },
     "user_tz": -120
    },
    "id": "QVTmarC3PG_e",
    "outputId": "11982ee9-cc47-451c-fd78-39848a939eff"
   },
   "outputs": [
    {
     "data": {
      "text/html": [
       "<div>\n",
       "<style scoped>\n",
       "    .dataframe tbody tr th:only-of-type {\n",
       "        vertical-align: middle;\n",
       "    }\n",
       "\n",
       "    .dataframe tbody tr th {\n",
       "        vertical-align: top;\n",
       "    }\n",
       "\n",
       "    .dataframe thead th {\n",
       "        text-align: right;\n",
       "    }\n",
       "</style>\n",
       "<table border=\"1\" class=\"dataframe\">\n",
       "  <thead>\n",
       "    <tr style=\"text-align: right;\">\n",
       "      <th></th>\n",
       "      <th>City_coded</th>\n",
       "      <th>Revenue</th>\n",
       "      <th>Sector</th>\n",
       "      <th>Legal_Form_Code</th>\n",
       "      <th>CNT_EMPLOYEE</th>\n",
       "      <th>CNT_CB_DENSITY</th>\n",
       "      <th>CNT_CB_MOB_DENSITY</th>\n",
       "      <th>CNT_CB_FN_DENSITY</th>\n",
       "      <th>Mobile_potential</th>\n",
       "      <th>Target</th>\n",
       "    </tr>\n",
       "  </thead>\n",
       "  <tbody>\n",
       "    <tr>\n",
       "      <th>5666</th>\n",
       "      <td>722</td>\n",
       "      <td>6391606.0</td>\n",
       "      <td>60.0</td>\n",
       "      <td>20.0</td>\n",
       "      <td>19</td>\n",
       "      <td>57.0</td>\n",
       "      <td>57.0</td>\n",
       "      <td>0.0</td>\n",
       "      <td>2006.059998</td>\n",
       "      <td>0</td>\n",
       "    </tr>\n",
       "    <tr>\n",
       "      <th>5667</th>\n",
       "      <td>1836</td>\n",
       "      <td>305000.0</td>\n",
       "      <td>60.0</td>\n",
       "      <td>4.0</td>\n",
       "      <td>13</td>\n",
       "      <td>9.0</td>\n",
       "      <td>9.0</td>\n",
       "      <td>0.0</td>\n",
       "      <td>1231.304840</td>\n",
       "      <td>0</td>\n",
       "    </tr>\n",
       "    <tr>\n",
       "      <th>5668</th>\n",
       "      <td>584</td>\n",
       "      <td>4200000.0</td>\n",
       "      <td>23.0</td>\n",
       "      <td>14.0</td>\n",
       "      <td>50</td>\n",
       "      <td>62.0</td>\n",
       "      <td>62.0</td>\n",
       "      <td>6.0</td>\n",
       "      <td>1958.236002</td>\n",
       "      <td>0</td>\n",
       "    </tr>\n",
       "    <tr>\n",
       "      <th>5669</th>\n",
       "      <td>1882</td>\n",
       "      <td>1336495.0</td>\n",
       "      <td>60.0</td>\n",
       "      <td>16.0</td>\n",
       "      <td>16</td>\n",
       "      <td>63.0</td>\n",
       "      <td>61.0</td>\n",
       "      <td>2.0</td>\n",
       "      <td>1703.188202</td>\n",
       "      <td>0</td>\n",
       "    </tr>\n",
       "    <tr>\n",
       "      <th>5670</th>\n",
       "      <td>966</td>\n",
       "      <td>4593054.0</td>\n",
       "      <td>64.0</td>\n",
       "      <td>14.0</td>\n",
       "      <td>41</td>\n",
       "      <td>90.0</td>\n",
       "      <td>90.0</td>\n",
       "      <td>5.0</td>\n",
       "      <td>1985.888315</td>\n",
       "      <td>0</td>\n",
       "    </tr>\n",
       "  </tbody>\n",
       "</table>\n",
       "</div>"
      ],
      "text/plain": [
       "      City_coded    Revenue  ...  Mobile_potential  Target\n",
       "5666         722  6391606.0  ...       2006.059998       0\n",
       "5667        1836   305000.0  ...       1231.304840       0\n",
       "5668         584  4200000.0  ...       1958.236002       0\n",
       "5669        1882  1336495.0  ...       1703.188202       0\n",
       "5670         966  4593054.0  ...       1985.888315       0\n",
       "\n",
       "[5 rows x 10 columns]"
      ]
     },
     "execution_count": 35,
     "metadata": {
      "tags": []
     },
     "output_type": "execute_result"
    }
   ],
   "source": [
    "final_dataset.tail()"
   ]
  },
  {
   "cell_type": "markdown",
   "metadata": {
    "id": "yKmKSuHlKLh-"
   },
   "source": [
    "The output should look like this:"
   ]
  },
  {
   "cell_type": "code",
   "execution_count": 36,
   "metadata": {
    "colab": {
     "base_uri": "https://localhost:8080/",
     "height": 200
    },
    "executionInfo": {
     "elapsed": 32,
     "status": "ok",
     "timestamp": 1624201480405,
     "user": {
      "displayName": "ARIADNA NING MORANCHO",
      "photoUrl": "",
      "userId": "02737535556598089552"
     },
     "user_tz": -120
    },
    "id": "m4o5gxjCKLh_",
    "outputId": "0bf0120d-7224-4e43-ddb7-e2cccbd0686c"
   },
   "outputs": [
    {
     "data": {
      "text/html": [
       "<div>\n",
       "<style scoped>\n",
       "    .dataframe tbody tr th:only-of-type {\n",
       "        vertical-align: middle;\n",
       "    }\n",
       "\n",
       "    .dataframe tbody tr th {\n",
       "        vertical-align: top;\n",
       "    }\n",
       "\n",
       "    .dataframe thead th {\n",
       "        text-align: right;\n",
       "    }\n",
       "</style>\n",
       "<table border=\"1\" class=\"dataframe\">\n",
       "  <thead>\n",
       "    <tr style=\"text-align: right;\">\n",
       "      <th></th>\n",
       "      <th>City_coded</th>\n",
       "      <th>Revenue</th>\n",
       "      <th>Sector</th>\n",
       "      <th>Legal_Form_Code</th>\n",
       "      <th>CNT_EMPLOYEE</th>\n",
       "      <th>CNT_CB_DENSITY</th>\n",
       "      <th>CNT_CB_MOB_DENSITY</th>\n",
       "      <th>CNT_CB_FN_DENSITY</th>\n",
       "      <th>Mobile_potential</th>\n",
       "      <th>Target</th>\n",
       "    </tr>\n",
       "  </thead>\n",
       "  <tbody>\n",
       "    <tr>\n",
       "      <th>0</th>\n",
       "      <td>772</td>\n",
       "      <td>4000000.0</td>\n",
       "      <td>42.0</td>\n",
       "      <td>14.0</td>\n",
       "      <td>13</td>\n",
       "      <td>891.0</td>\n",
       "      <td>867.0</td>\n",
       "      <td>62.0</td>\n",
       "      <td>1778.004205</td>\n",
       "      <td>1</td>\n",
       "    </tr>\n",
       "    <tr>\n",
       "      <th>1</th>\n",
       "      <td>711</td>\n",
       "      <td>11780000.0</td>\n",
       "      <td>74.0</td>\n",
       "      <td>4.0</td>\n",
       "      <td>50</td>\n",
       "      <td>7.0</td>\n",
       "      <td>7.0</td>\n",
       "      <td>0.0</td>\n",
       "      <td>1899.663564</td>\n",
       "      <td>1</td>\n",
       "    </tr>\n",
       "    <tr>\n",
       "      <th>2</th>\n",
       "      <td>434</td>\n",
       "      <td>2050000.0</td>\n",
       "      <td>43.0</td>\n",
       "      <td>14.0</td>\n",
       "      <td>16</td>\n",
       "      <td>30.0</td>\n",
       "      <td>30.0</td>\n",
       "      <td>1.0</td>\n",
       "      <td>1655.520125</td>\n",
       "      <td>1</td>\n",
       "    </tr>\n",
       "    <tr>\n",
       "      <th>3</th>\n",
       "      <td>580</td>\n",
       "      <td>853500.0</td>\n",
       "      <td>63.0</td>\n",
       "      <td>14.0</td>\n",
       "      <td>13</td>\n",
       "      <td>870.0</td>\n",
       "      <td>842.0</td>\n",
       "      <td>77.0</td>\n",
       "      <td>1548.507315</td>\n",
       "      <td>1</td>\n",
       "    </tr>\n",
       "    <tr>\n",
       "      <th>4</th>\n",
       "      <td>202</td>\n",
       "      <td>10680000.0</td>\n",
       "      <td>74.0</td>\n",
       "      <td>4.0</td>\n",
       "      <td>16</td>\n",
       "      <td>319.0</td>\n",
       "      <td>317.0</td>\n",
       "      <td>10.0</td>\n",
       "      <td>1746.128813</td>\n",
       "      <td>1</td>\n",
       "    </tr>\n",
       "  </tbody>\n",
       "</table>\n",
       "</div>"
      ],
      "text/plain": [
       "   City_coded     Revenue  Sector  ...  CNT_CB_FN_DENSITY  Mobile_potential  Target\n",
       "0         772   4000000.0    42.0  ...               62.0       1778.004205       1\n",
       "1         711  11780000.0    74.0  ...                0.0       1899.663564       1\n",
       "2         434   2050000.0    43.0  ...                1.0       1655.520125       1\n",
       "3         580    853500.0    63.0  ...               77.0       1548.507315       1\n",
       "4         202  10680000.0    74.0  ...               10.0       1746.128813       1\n",
       "\n",
       "[5 rows x 10 columns]"
      ]
     },
     "execution_count": 36,
     "metadata": {
      "tags": []
     },
     "output_type": "execute_result"
    }
   ],
   "source": [
    "final_dataset.head()"
   ]
  },
  {
   "cell_type": "code",
   "execution_count": 37,
   "metadata": {
    "colab": {
     "base_uri": "https://localhost:8080/",
     "height": 200
    },
    "executionInfo": {
     "elapsed": 31,
     "status": "ok",
     "timestamp": 1624201480406,
     "user": {
      "displayName": "ARIADNA NING MORANCHO",
      "photoUrl": "",
      "userId": "02737535556598089552"
     },
     "user_tz": -120
    },
    "id": "zcWcoMGbKLiB",
    "outputId": "a47a81f0-534a-4742-92ae-a29df0beeff5"
   },
   "outputs": [
    {
     "data": {
      "text/html": [
       "<div>\n",
       "<style scoped>\n",
       "    .dataframe tbody tr th:only-of-type {\n",
       "        vertical-align: middle;\n",
       "    }\n",
       "\n",
       "    .dataframe tbody tr th {\n",
       "        vertical-align: top;\n",
       "    }\n",
       "\n",
       "    .dataframe thead th {\n",
       "        text-align: right;\n",
       "    }\n",
       "</style>\n",
       "<table border=\"1\" class=\"dataframe\">\n",
       "  <thead>\n",
       "    <tr style=\"text-align: right;\">\n",
       "      <th></th>\n",
       "      <th>City_coded</th>\n",
       "      <th>Revenue</th>\n",
       "      <th>Sector</th>\n",
       "      <th>Legal_Form_Code</th>\n",
       "      <th>CNT_EMPLOYEE</th>\n",
       "      <th>CNT_CB_DENSITY</th>\n",
       "      <th>CNT_CB_MOB_DENSITY</th>\n",
       "      <th>CNT_CB_FN_DENSITY</th>\n",
       "      <th>Mobile_potential</th>\n",
       "      <th>Target</th>\n",
       "    </tr>\n",
       "  </thead>\n",
       "  <tbody>\n",
       "    <tr>\n",
       "      <th>5666</th>\n",
       "      <td>722</td>\n",
       "      <td>6391606.0</td>\n",
       "      <td>60.0</td>\n",
       "      <td>20.0</td>\n",
       "      <td>19</td>\n",
       "      <td>57.0</td>\n",
       "      <td>57.0</td>\n",
       "      <td>0.0</td>\n",
       "      <td>2006.059998</td>\n",
       "      <td>0</td>\n",
       "    </tr>\n",
       "    <tr>\n",
       "      <th>5667</th>\n",
       "      <td>1836</td>\n",
       "      <td>305000.0</td>\n",
       "      <td>60.0</td>\n",
       "      <td>4.0</td>\n",
       "      <td>13</td>\n",
       "      <td>9.0</td>\n",
       "      <td>9.0</td>\n",
       "      <td>0.0</td>\n",
       "      <td>1231.304840</td>\n",
       "      <td>0</td>\n",
       "    </tr>\n",
       "    <tr>\n",
       "      <th>5668</th>\n",
       "      <td>584</td>\n",
       "      <td>4200000.0</td>\n",
       "      <td>23.0</td>\n",
       "      <td>14.0</td>\n",
       "      <td>50</td>\n",
       "      <td>62.0</td>\n",
       "      <td>62.0</td>\n",
       "      <td>6.0</td>\n",
       "      <td>1958.236002</td>\n",
       "      <td>0</td>\n",
       "    </tr>\n",
       "    <tr>\n",
       "      <th>5669</th>\n",
       "      <td>1882</td>\n",
       "      <td>1336495.0</td>\n",
       "      <td>60.0</td>\n",
       "      <td>16.0</td>\n",
       "      <td>16</td>\n",
       "      <td>63.0</td>\n",
       "      <td>61.0</td>\n",
       "      <td>2.0</td>\n",
       "      <td>1703.188202</td>\n",
       "      <td>0</td>\n",
       "    </tr>\n",
       "    <tr>\n",
       "      <th>5670</th>\n",
       "      <td>966</td>\n",
       "      <td>4593054.0</td>\n",
       "      <td>64.0</td>\n",
       "      <td>14.0</td>\n",
       "      <td>41</td>\n",
       "      <td>90.0</td>\n",
       "      <td>90.0</td>\n",
       "      <td>5.0</td>\n",
       "      <td>1985.888315</td>\n",
       "      <td>0</td>\n",
       "    </tr>\n",
       "  </tbody>\n",
       "</table>\n",
       "</div>"
      ],
      "text/plain": [
       "      City_coded    Revenue  ...  Mobile_potential  Target\n",
       "5666         722  6391606.0  ...       2006.059998       0\n",
       "5667        1836   305000.0  ...       1231.304840       0\n",
       "5668         584  4200000.0  ...       1958.236002       0\n",
       "5669        1882  1336495.0  ...       1703.188202       0\n",
       "5670         966  4593054.0  ...       1985.888315       0\n",
       "\n",
       "[5 rows x 10 columns]"
      ]
     },
     "execution_count": 37,
     "metadata": {
      "tags": []
     },
     "output_type": "execute_result"
    }
   ],
   "source": [
    "final_dataset.tail()"
   ]
  },
  {
   "cell_type": "markdown",
   "metadata": {
    "id": "riT4OdRHKLiD"
   },
   "source": [
    "To measure the quality of our classifiers, it is necessary to train and test the models with different datasets. For this objective we will use [train_test_split](https://scikit-learn.org/stable/modules/generated/sklearn.model_selection.train_test_split.html) function to generate 4 new datasets: 2 for training and 2 for test: \n",
    "- `X_train`: contains all variables except `Target` for the 80% of `final_dataset`,\n",
    "- `y_train`: contains `Target`variables for the 80% of `final_dataset`, \n",
    "- `X_test`: contains all variables except `Target` for the 20% of `final_dataset`,\n",
    "- `y_test`: contains `Target`variables for the 20% of `final_dataset`."
   ]
  },
  {
   "cell_type": "code",
   "execution_count": 38,
   "metadata": {
    "colab": {
     "base_uri": "https://localhost:8080/",
     "height": 408
    },
    "executionInfo": {
     "elapsed": 30,
     "status": "ok",
     "timestamp": 1624201480407,
     "user": {
      "displayName": "ARIADNA NING MORANCHO",
      "photoUrl": "",
      "userId": "02737535556598089552"
     },
     "user_tz": -120
    },
    "id": "53-vr7DKKLiD",
    "outputId": "d1d2c89a-c0fc-44df-edfb-554a4c408c9c"
   },
   "outputs": [
    {
     "data": {
      "text/html": [
       "<div>\n",
       "<style scoped>\n",
       "    .dataframe tbody tr th:only-of-type {\n",
       "        vertical-align: middle;\n",
       "    }\n",
       "\n",
       "    .dataframe tbody tr th {\n",
       "        vertical-align: top;\n",
       "    }\n",
       "\n",
       "    .dataframe thead th {\n",
       "        text-align: right;\n",
       "    }\n",
       "</style>\n",
       "<table border=\"1\" class=\"dataframe\">\n",
       "  <thead>\n",
       "    <tr style=\"text-align: right;\">\n",
       "      <th></th>\n",
       "      <th>City_coded</th>\n",
       "      <th>Revenue</th>\n",
       "      <th>Sector</th>\n",
       "      <th>Legal_Form_Code</th>\n",
       "      <th>CNT_EMPLOYEE</th>\n",
       "      <th>CNT_CB_DENSITY</th>\n",
       "      <th>CNT_CB_MOB_DENSITY</th>\n",
       "      <th>CNT_CB_FN_DENSITY</th>\n",
       "      <th>Mobile_potential</th>\n",
       "    </tr>\n",
       "  </thead>\n",
       "  <tbody>\n",
       "    <tr>\n",
       "      <th>718</th>\n",
       "      <td>357</td>\n",
       "      <td>1500000.0</td>\n",
       "      <td>19.0</td>\n",
       "      <td>16.0</td>\n",
       "      <td>13</td>\n",
       "      <td>460.0</td>\n",
       "      <td>453.0</td>\n",
       "      <td>18.0</td>\n",
       "      <td>1611.798456</td>\n",
       "    </tr>\n",
       "    <tr>\n",
       "      <th>4113</th>\n",
       "      <td>1035</td>\n",
       "      <td>1650000.0</td>\n",
       "      <td>42.0</td>\n",
       "      <td>31.0</td>\n",
       "      <td>17</td>\n",
       "      <td>26.0</td>\n",
       "      <td>25.0</td>\n",
       "      <td>2.0</td>\n",
       "      <td>1832.495822</td>\n",
       "    </tr>\n",
       "    <tr>\n",
       "      <th>670</th>\n",
       "      <td>936</td>\n",
       "      <td>1200000.0</td>\n",
       "      <td>38.0</td>\n",
       "      <td>31.0</td>\n",
       "      <td>13</td>\n",
       "      <td>57.0</td>\n",
       "      <td>56.0</td>\n",
       "      <td>1.0</td>\n",
       "      <td>1482.466783</td>\n",
       "    </tr>\n",
       "    <tr>\n",
       "      <th>3497</th>\n",
       "      <td>1775</td>\n",
       "      <td>753944.0</td>\n",
       "      <td>60.0</td>\n",
       "      <td>14.0</td>\n",
       "      <td>12</td>\n",
       "      <td>83.0</td>\n",
       "      <td>82.0</td>\n",
       "      <td>2.0</td>\n",
       "      <td>1351.424294</td>\n",
       "    </tr>\n",
       "    <tr>\n",
       "      <th>5471</th>\n",
       "      <td>1043</td>\n",
       "      <td>800000.0</td>\n",
       "      <td>38.0</td>\n",
       "      <td>14.0</td>\n",
       "      <td>15</td>\n",
       "      <td>7.0</td>\n",
       "      <td>7.0</td>\n",
       "      <td>0.0</td>\n",
       "      <td>1387.386924</td>\n",
       "    </tr>\n",
       "    <tr>\n",
       "      <th>...</th>\n",
       "      <td>...</td>\n",
       "      <td>...</td>\n",
       "      <td>...</td>\n",
       "      <td>...</td>\n",
       "      <td>...</td>\n",
       "      <td>...</td>\n",
       "      <td>...</td>\n",
       "      <td>...</td>\n",
       "      <td>...</td>\n",
       "    </tr>\n",
       "    <tr>\n",
       "      <th>3772</th>\n",
       "      <td>675</td>\n",
       "      <td>5000000.0</td>\n",
       "      <td>13.0</td>\n",
       "      <td>14.0</td>\n",
       "      <td>10</td>\n",
       "      <td>427.0</td>\n",
       "      <td>424.0</td>\n",
       "      <td>16.0</td>\n",
       "      <td>1658.185754</td>\n",
       "    </tr>\n",
       "    <tr>\n",
       "      <th>5191</th>\n",
       "      <td>604</td>\n",
       "      <td>550000.0</td>\n",
       "      <td>50.0</td>\n",
       "      <td>4.0</td>\n",
       "      <td>20</td>\n",
       "      <td>99.0</td>\n",
       "      <td>95.0</td>\n",
       "      <td>9.0</td>\n",
       "      <td>1580.154346</td>\n",
       "    </tr>\n",
       "    <tr>\n",
       "      <th>5226</th>\n",
       "      <td>1045</td>\n",
       "      <td>1450000.0</td>\n",
       "      <td>31.0</td>\n",
       "      <td>18.0</td>\n",
       "      <td>12</td>\n",
       "      <td>21.0</td>\n",
       "      <td>21.0</td>\n",
       "      <td>0.0</td>\n",
       "      <td>1492.190023</td>\n",
       "    </tr>\n",
       "    <tr>\n",
       "      <th>5390</th>\n",
       "      <td>636</td>\n",
       "      <td>6128271.0</td>\n",
       "      <td>24.0</td>\n",
       "      <td>14.0</td>\n",
       "      <td>41</td>\n",
       "      <td>17.0</td>\n",
       "      <td>17.0</td>\n",
       "      <td>1.0</td>\n",
       "      <td>2019.100348</td>\n",
       "    </tr>\n",
       "    <tr>\n",
       "      <th>860</th>\n",
       "      <td>1379</td>\n",
       "      <td>3639224.0</td>\n",
       "      <td>43.0</td>\n",
       "      <td>22.0</td>\n",
       "      <td>18</td>\n",
       "      <td>200.0</td>\n",
       "      <td>195.0</td>\n",
       "      <td>22.0</td>\n",
       "      <td>1969.250897</td>\n",
       "    </tr>\n",
       "  </tbody>\n",
       "</table>\n",
       "<p>4536 rows × 9 columns</p>\n",
       "</div>"
      ],
      "text/plain": [
       "      City_coded    Revenue  ...  CNT_CB_FN_DENSITY  Mobile_potential\n",
       "718          357  1500000.0  ...               18.0       1611.798456\n",
       "4113        1035  1650000.0  ...                2.0       1832.495822\n",
       "670          936  1200000.0  ...                1.0       1482.466783\n",
       "3497        1775   753944.0  ...                2.0       1351.424294\n",
       "5471        1043   800000.0  ...                0.0       1387.386924\n",
       "...          ...        ...  ...                ...               ...\n",
       "3772         675  5000000.0  ...               16.0       1658.185754\n",
       "5191         604   550000.0  ...                9.0       1580.154346\n",
       "5226        1045  1450000.0  ...                0.0       1492.190023\n",
       "5390         636  6128271.0  ...                1.0       2019.100348\n",
       "860         1379  3639224.0  ...               22.0       1969.250897\n",
       "\n",
       "[4536 rows x 9 columns]"
      ]
     },
     "execution_count": 38,
     "metadata": {
      "tags": []
     },
     "output_type": "execute_result"
    }
   ],
   "source": [
    "X_train, X_test, y_train, y_test= train_test_split (final_dataset.iloc[:,:-1], final_dataset.iloc[:,-1], test_size=0.2, random_state=42) \n",
    "X_train"
   ]
  },
  {
   "cell_type": "markdown",
   "metadata": {
    "id": "n-pLvA3EKLiJ"
   },
   "source": [
    "[**EX6**] [**REPORT**] Calculate the lenght of `X_train` and `X_test` datasets. Is it aligned with the `test_size`value selected in the split?"
   ]
  },
  {
   "cell_type": "code",
   "execution_count": 39,
   "metadata": {
    "colab": {
     "base_uri": "https://localhost:8080/"
    },
    "executionInfo": {
     "elapsed": 29,
     "status": "ok",
     "timestamp": 1624201480407,
     "user": {
      "displayName": "ARIADNA NING MORANCHO",
      "photoUrl": "",
      "userId": "02737535556598089552"
     },
     "user_tz": -120
    },
    "id": "HenHwNL6PkO9",
    "outputId": "69d0cccf-622c-4559-fc8f-10d1467d9861"
   },
   "outputs": [
    {
     "name": "stdout",
     "output_type": "stream",
     "text": [
      "      City_coded    Revenue  ...  CNT_CB_FN_DENSITY  Mobile_potential\n",
      "718          357  1500000.0  ...               18.0       1611.798456\n",
      "4113        1035  1650000.0  ...                2.0       1832.495822\n",
      "670          936  1200000.0  ...                1.0       1482.466783\n",
      "3497        1775   753944.0  ...                2.0       1351.424294\n",
      "5471        1043   800000.0  ...                0.0       1387.386924\n",
      "...          ...        ...  ...                ...               ...\n",
      "3772         675  5000000.0  ...               16.0       1658.185754\n",
      "5191         604   550000.0  ...                9.0       1580.154346\n",
      "5226        1045  1450000.0  ...                0.0       1492.190023\n",
      "5390         636  6128271.0  ...                1.0       2019.100348\n",
      "860         1379  3639224.0  ...               22.0       1969.250897\n",
      "\n",
      "[4536 rows x 9 columns] \n",
      "\n",
      "       City_coded     Revenue  ...  CNT_CB_FN_DENSITY  Mobile_potential\n",
      "3671        1275    300000.0  ...                0.0       1233.803666\n",
      "5183         286   1950000.0  ...                5.0       1498.207037\n",
      "1859        1828   2100000.0  ...               18.0       1992.761706\n",
      "2589         853   1900000.0  ...               43.0       2014.853012\n",
      "1662         428   1600000.0  ...               29.0       2305.299478\n",
      "...          ...         ...  ...                ...               ...\n",
      "3834        1579    703000.0  ...                1.0       1307.168803\n",
      "4941        1238   1400000.0  ...                1.0       1975.092839\n",
      "1297         504  10000000.0  ...                2.0       2039.694998\n",
      "4965         784    850000.0  ...               10.0       1353.264634\n",
      "1071         493    425000.0  ...                1.0       1612.724660\n",
      "\n",
      "[1135 rows x 9 columns]\n"
     ]
    }
   ],
   "source": [
    "print(X_train, \"\\n\\n\", X_test)"
   ]
  },
  {
   "cell_type": "markdown",
   "metadata": {
    "id": "0Doge9L_KLiM"
   },
   "source": [
    "[**EX7**] [**REPORT**] Draw the histograms of `y_train`and `y_test`. Is the dataset balanced (similar number of rows for each class or Target) or imbalanced ? How do you think it could affect to quality of the classifier?"
   ]
  },
  {
   "cell_type": "code",
   "execution_count": 40,
   "metadata": {
    "colab": {
     "base_uri": "https://localhost:8080/",
     "height": 545
    },
    "executionInfo": {
     "elapsed": 425,
     "status": "ok",
     "timestamp": 1624201480810,
     "user": {
      "displayName": "ARIADNA NING MORANCHO",
      "photoUrl": "",
      "userId": "02737535556598089552"
     },
     "user_tz": -120
    },
    "id": "VLKmiLQVRt9z",
    "outputId": "3db40aca-08ca-4001-e817-57929f125c4b"
   },
   "outputs": [
    {
     "data": {
      "image/png": "[encoded data removed]",
      "text/plain": [
       "<Figure size 432x288 with 1 Axes>"
      ]
     },
     "metadata": {
      "needs_background": "light",
      "tags": []
     },
     "output_type": "display_data"
    },
    {
     "data": {
      "image/png": "[encoded data removed]",
      "text/plain": [
       "<Figure size 432x288 with 1 Axes>"
      ]
     },
     "metadata": {
      "needs_background": "light",
      "tags": []
     },
     "output_type": "display_data"
    }
   ],
   "source": [
    "plt.title(\"Histogram of y_train\")\n",
    "plt.hist(y_train)\n",
    "plt.show()\n",
    "plt.title(\"Histogram of y_test\")\n",
    "plt.hist(y_test)\n",
    "plt.show()"
   ]
  },
  {
   "cell_type": "markdown",
   "metadata": {
    "id": "pVofh0d-KLiT"
   },
   "source": [
    "# 2. Model Training: from baseline models to ensemble¶"
   ]
  },
  {
   "cell_type": "markdown",
   "metadata": {
    "id": "P58EvGU1KLiT"
   },
   "source": [
    "Now we are ready to enter in the training stage of the machine learning models. The common way to procedure is starting with baseline models (i.e. SVM, Decision Trees, Naive Bayes, etc....) and later, try to improve it adjusting hyperparameters of the models or creating more complex models architectures as ensembles."
   ]
  },
  {
   "cell_type": "markdown",
   "metadata": {
    "id": "hKyfjGlmKLiU"
   },
   "source": [
    "## 2.1. Baseline of models: Training and evaluation"
   ]
  },
  {
   "cell_type": "markdown",
   "metadata": {
    "id": "eWN0sijJKLiU"
   },
   "source": [
    "In the following section we are training a SVM, Decision Tree and Naive Bayes algorithms. To do it, we will use the `X_train`and `y_train`datasets.\n",
    "Later on we will evaluate the performance (i.e. **accuracy**, **confusion matrix**, **recall** and **precision**) of each model with the `test`dataset, i.e. `X_test`and `y_test`.\n",
    "\n",
    "\n",
    "Tip 1: You may use [classification_report()](https://scikit-learn.org/stable/modules/generated/sklearn.metrics.classification_report.html) from Sklearn library to calculate the **precision**, **recall** of the model.\n",
    "\n",
    "Tip 2: You may use [confusion_matrix()](https://scikit-learn.org/stable/modules/generated/sklearn.metrics.confusion_matrix.html) from Sklearn library to calculate the confusion matrix of a model.\n",
    "\n",
    "Tip 3: When using Sklearn library, you may use the function **.score(X_test, y_test)** to calculate the accuracy value."
   ]
  },
  {
   "cell_type": "markdown",
   "metadata": {
    "id": "2zQCoC5JKLiV"
   },
   "source": [
    "### Classification with a SVM model"
   ]
  },
  {
   "cell_type": "markdown",
   "metadata": {
    "id": "VnWGf-D6KLiV"
   },
   "source": [
    "[**EX8**] [**CODE**] Train the SVM classifier of the Sklearn library. Evaluate the following metrics for kernel=\"rbf\":\n",
    "- Which is **precision**, **recall** and **accuracy** of the algorithm?\n",
    "- Which is the **confusion matrix**?\n",
    "- Is the algorithm classifying both classes (Target=0 and Target=1) in a similar way? Why?\n",
    "- Compare the **precision** and **recall** of the **training** dataset (i.e.`X_train`and `y_train`) vs the **test** dataset (i.e. `X_test`and `y_test`). Which is better? Why? Which is the correct measure to estimate the performance for other unseen datasets? Why?"
   ]
  },
  {
   "cell_type": "code",
   "execution_count": 41,
   "metadata": {
    "colab": {
     "base_uri": "https://localhost:8080/"
    },
    "executionInfo": {
     "elapsed": 20,
     "status": "ok",
     "timestamp": 1624201480812,
     "user": {
      "displayName": "ARIADNA NING MORANCHO",
      "photoUrl": "",
      "userId": "02737535556598089552"
     },
     "user_tz": -120
    },
    "id": "oNeb7vlMon-d",
    "outputId": "41c72a68-fcc6-4648-9c56-7a9892746619"
   },
   "outputs": [
    {
     "data": {
      "text/plain": [
       "190"
      ]
     },
     "execution_count": 41,
     "metadata": {
      "tags": []
     },
     "output_type": "execute_result"
    }
   ],
   "source": [
    "y_test.sum()"
   ]
  },
  {
   "cell_type": "code",
   "execution_count": 42,
   "metadata": {
    "colab": {
     "base_uri": "https://localhost:8080/"
    },
    "executionInfo": {
     "elapsed": 428,
     "status": "ok",
     "timestamp": 1624201481228,
     "user": {
      "displayName": "ARIADNA NING MORANCHO",
      "photoUrl": "",
      "userId": "02737535556598089552"
     },
     "user_tz": -120
    },
    "id": "keFEDoBNFyY6",
    "outputId": "b316b091-abed-4b9d-d2a1-03901bee2b92"
   },
   "outputs": [
    {
     "name": "stdout",
     "output_type": "stream",
     "text": [
      "SVC Accuracy: 0.8334801762114538\n",
      "              precision    recall  f1-score   support\n",
      "\n",
      "           0       0.83      1.00      0.91       945\n",
      "           1       1.00      0.01      0.01       190\n",
      "\n",
      "    accuracy                           0.83      1135\n",
      "   macro avg       0.92      0.50      0.46      1135\n",
      "weighted avg       0.86      0.83      0.76      1135\n",
      "\n"
     ]
    },
    {
     "data": {
      "text/plain": [
       "array([[945,   0],\n",
       "       [189,   1]])"
      ]
     },
     "execution_count": 42,
     "metadata": {
      "tags": []
     },
     "output_type": "execute_result"
    }
   ],
   "source": [
    "#### --- Support Vector Classification ==> SVC()\n",
    "model_SVC = SVC(random_state=42) #Create the model based SVC and kernel by defaul is \"rbf\"\n",
    "model_SVC.fit(X_train, y_train) #Train the model with the training samples: X_train and y_train\n",
    "y_pred_SVC=model_SVC.predict(X_test) #Test the trained model with test samples\n",
    "result_SVC=model_SVC.score(X_test, y_test) #Print the score of the trained model\n",
    "print(\"SVC Accuracy:\", result_SVC)\n",
    "\n",
    "print(classification_report(y_test,y_pred_SVC))\n",
    "\n",
    "confusion_matrix(y_test, y_pred_SVC) #The inputs are the test dataset and the predicted from the classifier. "
   ]
  },
  {
   "cell_type": "code",
   "execution_count": 43,
   "metadata": {
    "colab": {
     "base_uri": "https://localhost:8080/"
    },
    "executionInfo": {
     "elapsed": 304,
     "status": "ok",
     "timestamp": 1624201481528,
     "user": {
      "displayName": "ARIADNA NING MORANCHO",
      "photoUrl": "",
      "userId": "02737535556598089552"
     },
     "user_tz": -120
    },
    "id": "RAJdKeGMrj51",
    "outputId": "9aa8a9fb-5fd4-4805-b5da-75c7f0681780"
   },
   "outputs": [
    {
     "name": "stdout",
     "output_type": "stream",
     "text": [
      "SVC Accuracy: 0.8589065255731922\n",
      "              precision    recall  f1-score   support\n",
      "\n",
      "           0       0.86      1.00      0.92      3888\n",
      "           1       1.00      0.01      0.02       648\n",
      "\n",
      "    accuracy                           0.86      4536\n",
      "   macro avg       0.93      0.51      0.47      4536\n",
      "weighted avg       0.88      0.86      0.80      4536\n",
      "\n"
     ]
    },
    {
     "data": {
      "text/plain": [
       "array([[3888,    0],\n",
       "       [ 640,    8]])"
      ]
     },
     "execution_count": 43,
     "metadata": {
      "tags": []
     },
     "output_type": "execute_result"
    }
   ],
   "source": [
    "#evaluating performance on train set\n",
    "y_pred_SVC_train=model_SVC.predict(X_train) \n",
    "result_SVC=model_SVC.score(X_train, y_train) \n",
    "print(\"SVC Accuracy:\", result_SVC)\n",
    "\n",
    "print(classification_report(y_train,y_pred_SVC_train))\n",
    "\n",
    "confusion_matrix(y_train, y_pred_SVC_train) "
   ]
  },
  {
   "cell_type": "markdown",
   "metadata": {
    "id": "jBTK-h4cKLiY"
   },
   "source": [
    "### Classification with a Decision Tree model"
   ]
  },
  {
   "cell_type": "markdown",
   "metadata": {
    "id": "DMRkY9uvKLiY"
   },
   "source": [
    "[**EX9**] [**CODE**] Train the Decision Tree algorithm from Sklearn library. Evaluate the following metrics:\n",
    "- Which is **precision**, **recall** and **accuracy** of the algorithm?\n",
    "- Which is the **confusion matrix**?\n",
    "- Is Decision Tree algorithm working better than SVM? Why?"
   ]
  },
  {
   "cell_type": "code",
   "execution_count": 44,
   "metadata": {
    "colab": {
     "base_uri": "https://localhost:8080/"
    },
    "executionInfo": {
     "elapsed": 271,
     "status": "ok",
     "timestamp": 1624201481790,
     "user": {
      "displayName": "ARIADNA NING MORANCHO",
      "photoUrl": "",
      "userId": "02737535556598089552"
     },
     "user_tz": -120
    },
    "id": "4WkCk6RlGzkX",
    "outputId": "d0ac5b04-0ff6-4f82-bd59-d34ce8015a8a"
   },
   "outputs": [
    {
     "name": "stdout",
     "output_type": "stream",
     "text": [
      "DT Accuracy: 0.7691629955947137\n",
      "              precision    recall  f1-score   support\n",
      "\n",
      "           0       0.86      0.86      0.86       945\n",
      "           1       0.31      0.32      0.32       190\n",
      "\n",
      "    accuracy                           0.77      1135\n",
      "   macro avg       0.59      0.59      0.59      1135\n",
      "weighted avg       0.77      0.77      0.77      1135\n",
      "\n"
     ]
    },
    {
     "data": {
      "text/plain": [
       "array([[812, 133],\n",
       "       [129,  61]])"
      ]
     },
     "execution_count": 44,
     "metadata": {
      "tags": []
     },
     "output_type": "execute_result"
    }
   ],
   "source": [
    "#### --- Decission Tree Classifier ==> DecisionTreeClassifier()\n",
    "model_DT = DecisionTreeClassifier( random_state=42)\n",
    "model_DT.fit(X_train, y_train)\n",
    "y_pred_DT=model_DT.predict(X_test)\n",
    "result_DT=model_DT.score(X_test, y_test)\n",
    "print(\"DT Accuracy:\", result_DT)\n",
    "\n",
    "print(classification_report(y_test,y_pred_DT))\n",
    "\n",
    "confusion_matrix(y_test, y_pred_DT) #The inputs are the test dataset and the predicted from the classifier. "
   ]
  },
  {
   "cell_type": "markdown",
   "metadata": {
    "id": "VxSee22YKLiy"
   },
   "source": [
    "### Comparing algorithm consistenly: KFold cross-validation"
   ]
  },
  {
   "cell_type": "markdown",
   "metadata": {
    "id": "K-n_MHhvKLiz"
   },
   "source": [
    "When we are looking for the best algorithm to classify a dataset, it is very useful to compare all of them. Besides, to protect the training from **overfitting** and calculate the performance with less variance than a single train-test split, it is uselful to apply **K-Fold cross-validation**. The way that KFolds works is splitting the dataset into k-parts or **fold** (e.g. k = 3, 5 or k = 10). The algorithm is trained on k − 1 folds with one held back and tested on the held back fold."
   ]
  },
  {
   "cell_type": "markdown",
   "metadata": {
    "id": "23xG-yXNKLiz"
   },
   "source": [
    "[**EX10**] [**CODE**] Train a SVM and Decision Tree algorithms using a KFold cross-validation with **k=5** and calculate the **mean** and **standard deviation** of the **accuracy**. Plot a boxplot of the accuracy for every model. Which is the model with better mean value of the accuracy? Which is the algorithm with less deviation on the accuracy?  \n",
    "\n",
    "Tip 1: You may use [KFold](https://scikit-learn.org/stable/modules/generated/sklearn.model_selection.KFold.html) to apply cross-validation."
   ]
  },
  {
   "cell_type": "code",
   "execution_count": 45,
   "metadata": {
    "colab": {
     "base_uri": "https://localhost:8080/"
    },
    "executionInfo": {
     "elapsed": 1547,
     "status": "ok",
     "timestamp": 1624201483334,
     "user": {
      "displayName": "ARIADNA NING MORANCHO",
      "photoUrl": "",
      "userId": "02737535556598089552"
     },
     "user_tz": -120
    },
    "id": "_UH4XD92pNZ7",
    "outputId": "dda0461f-336b-441d-eded-2edff1a83f34"
   },
   "outputs": [
    {
     "name": "stdout",
     "output_type": "stream",
     "text": [
      "Model SVM with accuracy (mean): 0.858910869449072 and accuracy (std): 0.012553735955727617\n",
      "Model Decision_trees with accuracy (mean): 0.7804248891392935 and accuracy (std): 0.008844450284087176\n"
     ]
    }
   ],
   "source": [
    "#Models definition\n",
    "models=[]\n",
    "models.append(('SVM', SVC()))\n",
    "models.append(('Decision_trees', DecisionTreeClassifier(random_state=42)))\n",
    "\n",
    "#Evaluate each models\n",
    "results=[]\n",
    "names=[]\n",
    "scoring_metric='accuracy'\n",
    "for name_model, model in models:\n",
    "    kfold= KFold(n_splits=5)\n",
    "    cv_results=cross_val_score(model, X_train, y_train, cv=kfold, scoring=scoring_metric)\n",
    "    results.append(cv_results)\n",
    "    names.append(name_model)\n",
    "    print (\"Model\", name_model, \"with accuracy (mean):\", cv_results.mean(), \"and accuracy (std):\", cv_results.std())"
   ]
  },
  {
   "cell_type": "code",
   "execution_count": 46,
   "metadata": {
    "colab": {
     "base_uri": "https://localhost:8080/",
     "height": 295
    },
    "executionInfo": {
     "elapsed": 11,
     "status": "ok",
     "timestamp": 1624201483335,
     "user": {
      "displayName": "ARIADNA NING MORANCHO",
      "photoUrl": "",
      "userId": "02737535556598089552"
     },
     "user_tz": -120
    },
    "id": "xPG_ShQwq-vZ",
    "outputId": "dc686b32-16bd-4267-8ab4-3f8d6e78ee80"
   },
   "outputs": [
    {
     "data": {
      "image/png": "[encoded data removed]",
      "text/plain": [
       "<Figure size 432x288 with 1 Axes>"
      ]
     },
     "metadata": {
      "needs_background": "light",
      "tags": []
     },
     "output_type": "display_data"
    }
   ],
   "source": [
    "fig=pyplot.figure()\n",
    "fig.suptitle (\"Algorithm accuracy comparison\")\n",
    "ax=fig.add_subplot(111)\n",
    "pyplot.boxplot(results)\n",
    "ax.set_xticklabels(names)\n",
    "pyplot.show()"
   ]
  },
  {
   "cell_type": "markdown",
   "metadata": {
    "id": "_aEAtktzKLi2"
   },
   "source": [
    "The output of the boxplots should look like this:"
   ]
  },
  {
   "cell_type": "code",
   "execution_count": 47,
   "metadata": {
    "colab": {
     "base_uri": "https://localhost:8080/",
     "height": 295
    },
    "executionInfo": {
     "elapsed": 407,
     "status": "ok",
     "timestamp": 1624201483733,
     "user": {
      "displayName": "ARIADNA NING MORANCHO",
      "photoUrl": "",
      "userId": "02737535556598089552"
     },
     "user_tz": -120
    },
    "id": "bynq6I3OKLi3",
    "outputId": "10400d04-d6ef-43cb-c9ed-ebb9a438a2cb",
    "scrolled": true
   },
   "outputs": [
    {
     "data": {
      "image/png": "[encoded data removed]",
      "text/plain": [
       "<Figure size 432x288 with 1 Axes>"
      ]
     },
     "metadata": {
      "needs_background": "light",
      "tags": []
     },
     "output_type": "display_data"
    }
   ],
   "source": [
    "#boxplot for algorithm comparison\n",
    "fig=pyplot.figure()\n",
    "fig.suptitle (\"Algorithm accuracy comparison\")\n",
    "ax=fig.add_subplot(111)\n",
    "pyplot.boxplot(results)\n",
    "ax.set_xticklabels(names)\n",
    "pyplot.show()"
   ]
  },
  {
   "cell_type": "markdown",
   "metadata": {
    "id": "5h_URjohKLi6"
   },
   "source": [
    "## 2.2 Improving the model"
   ]
  },
  {
   "cell_type": "markdown",
   "metadata": {
    "id": "zDgLSJn_KLi7"
   },
   "source": [
    "As we observe from the baseline models, even though the accuracy is over 70% the classifiers don't distinguish properly both classes, i.e. **Target=1** and **Target=0**.  \n",
    "In this scenario, we should apply another strategies to improve the perfomance. There are several options: from adjusting the balance of the classes or doing the fine tuning of the hyperparameters of the models (for instance the type of kernel in SVM or the minimum number of samples per leaf in Decision Tree) to combine differents models to create ensembles.\n",
    "In this section, we will evaluate our classifiers in two ways:\n",
    "- Forcing the balancing of both classes\n",
    "- Building ensembles of models"
   ]
  },
  {
   "cell_type": "markdown",
   "metadata": {
    "id": "0xGX62GJKLi8"
   },
   "source": [
    "### Balancing the dataset"
   ]
  },
  {
   "cell_type": "markdown",
   "metadata": {
    "id": "7HL7D2DvKLi8"
   },
   "source": [
    "Let's check the type of balancing we have in our training and test datasets."
   ]
  },
  {
   "cell_type": "markdown",
   "metadata": {
    "id": "EV6OfIKgKLi9"
   },
   "source": [
    "[**EX11**][**CODE**] Split the previous `final_dataset`in two datasets: `customer_dt` for class 1 and `noncustomer_dt`for class 0. Calculate the number of samples for the **customers** class (i.e. Target=1) and for the **noncustomers** class (i.e. Target=0). Is the `final_dataset`balanced or imbalanced? Explain two options to match both datasets.\n"
   ]
  },
  {
   "cell_type": "markdown",
   "metadata": {
    "id": "w9rVOQ5iKLjD"
   },
   "source": [
    "Let's undersample the `noncustomer_dt` to balance both datasets:"
   ]
  },
  {
   "cell_type": "code",
   "execution_count": 48,
   "metadata": {
    "colab": {
     "base_uri": "https://localhost:8080/"
    },
    "executionInfo": {
     "elapsed": 15,
     "status": "ok",
     "timestamp": 1624201483735,
     "user": {
      "displayName": "ARIADNA NING MORANCHO",
      "photoUrl": "",
      "userId": "02737535556598089552"
     },
     "user_tz": -120
    },
    "id": "8a9L5o8iKLjE",
    "outputId": "ea6527c7-d3f0-47d4-ed91-13e1d3486760"
   },
   "outputs": [
    {
     "name": "stdout",
     "output_type": "stream",
     "text": [
      "The new number of samples in noncustomer dataset is: 840\n"
     ]
    }
   ],
   "source": [
    "noncustomer_dt_sample=noncustomer_dt.sample(840,random_state=42)\n",
    "print(\"The new number of samples in noncustomer dataset is:\", len(noncustomer_dt_sample))"
   ]
  },
  {
   "cell_type": "markdown",
   "metadata": {
    "id": "P2l66X4jKLjG"
   },
   "source": [
    "If we append both datasets, the **customer_dt** and the **noncustomer_dt_sample**, the new `final_dataset`looks like:"
   ]
  },
  {
   "cell_type": "code",
   "execution_count": 49,
   "metadata": {
    "colab": {
     "base_uri": "https://localhost:8080/",
     "height": 281
    },
    "executionInfo": {
     "elapsed": 360,
     "status": "ok",
     "timestamp": 1624201484084,
     "user": {
      "displayName": "ARIADNA NING MORANCHO",
      "photoUrl": "",
      "userId": "02737535556598089552"
     },
     "user_tz": -120
    },
    "id": "C0WTasz3KLjH",
    "outputId": "83baf72e-c2b9-4e97-a849-7e2c2e75827e"
   },
   "outputs": [
    {
     "data": {
      "text/plain": [
       "<matplotlib.axes._subplots.AxesSubplot at 0x7f06e73aea10>"
      ]
     },
     "execution_count": 49,
     "metadata": {
      "tags": []
     },
     "output_type": "execute_result"
    },
    {
     "data": {
      "image/png": "[encoded data removed]",
      "text/plain": [
       "<Figure size 432x288 with 1 Axes>"
      ]
     },
     "metadata": {
      "needs_background": "light",
      "tags": []
     },
     "output_type": "display_data"
    }
   ],
   "source": [
    "final_dataset=customer_dt.append(noncustomer_dt_sample).reset_index().drop('index', axis=1)\n",
    "final_dataset=final_dataset.loc[:,['City_coded', 'Revenue', 'Sector', 'Legal_Form_Code', 'CNT_EMPLOYEE', 'CNT_CB_DENSITY',\n",
    "                            'CNT_CB_MOB_DENSITY', 'CNT_CB_FN_DENSITY', 'Mobile_potential','Target']]\n",
    "final_dataset.Target.hist()"
   ]
  },
  {
   "cell_type": "markdown",
   "metadata": {
    "id": "ZQ0HyRiOKLjJ"
   },
   "source": [
    "[**EX12**][**CODE**][**REPORT**] Train a SVC and Decision Tree algorithm with the new `final_dataset`. Evaluate the **recall**, **precision** and **confusion matrix** of all 3 models.\n",
    "- Which has better accuracy?\n",
    "- Which is the model with better recall? And accuracy?\n",
    "- Which model you recommend to classify both classes? Justify your answer"
   ]
  },
  {
   "cell_type": "code",
   "execution_count": 50,
   "metadata": {
    "colab": {
     "base_uri": "https://localhost:8080/"
    },
    "executionInfo": {
     "elapsed": 14,
     "status": "ok",
     "timestamp": 1624201484085,
     "user": {
      "displayName": "ARIADNA NING MORANCHO",
      "photoUrl": "",
      "userId": "02737535556598089552"
     },
     "user_tz": -120
    },
    "id": "vQiamOeH0AuW",
    "outputId": "77aa564d-a9cc-4175-b522-e9e117ccce17"
   },
   "outputs": [
    {
     "name": "stdout",
     "output_type": "stream",
     "text": [
      "SVC Accuracy: 0.5216606498194946\n",
      "              precision    recall  f1-score   support\n",
      "\n",
      "           0       0.52      0.70      0.60       281\n",
      "           1       0.52      0.34      0.41       273\n",
      "\n",
      "    accuracy                           0.52       554\n",
      "   macro avg       0.52      0.52      0.50       554\n",
      "weighted avg       0.52      0.52      0.51       554\n",
      "\n",
      "[[196  85]\n",
      " [180  93]]\n",
      "\n",
      "\n",
      "DT Accuracy: 0.592057761732852\n",
      "              precision    recall  f1-score   support\n",
      "\n",
      "           0       0.61      0.54      0.57       281\n",
      "           1       0.58      0.65      0.61       273\n",
      "\n",
      "    accuracy                           0.59       554\n",
      "   macro avg       0.59      0.59      0.59       554\n",
      "weighted avg       0.59      0.59      0.59       554\n",
      "\n"
     ]
    },
    {
     "data": {
      "text/plain": [
       "array([[151, 130],\n",
       "       [ 96, 177]])"
      ]
     },
     "execution_count": 50,
     "metadata": {
      "tags": []
     },
     "output_type": "execute_result"
    }
   ],
   "source": [
    "X_train, X_test, y_train, y_test= train_test_split (final_dataset.iloc[:,:-1], final_dataset.iloc[:,-1], test_size=0.33, random_state=42) \n",
    "\n",
    "\n",
    "#### --- Support Vector Classification ==> SVC()\n",
    "model_SVC = SVC(random_state=42) #Create the model based SVC and kernel by defaul is \"rbf\"\n",
    "model_SVC.fit(X_train, y_train) #Train the model with the training samples: X_train and y_train\n",
    "y_pred_SVC=model_SVC.predict(X_test) #Test the trained model with test samples\n",
    "result_SVC=model_SVC.score(X_test, y_test) #Print the score of the trained model\n",
    "print(\"SVC Accuracy:\", result_SVC)\n",
    "\n",
    "print(classification_report(y_test,y_pred_SVC))\n",
    "\n",
    "print(confusion_matrix(y_test, y_pred_SVC)) #The inputs are the test dataset and the predicted from the classifier. \n",
    "\n",
    "print(\"\\n\")\n",
    "\n",
    "\n",
    "#### --- Decission Tree Classifier ==> DecisionTreeClassifier()\n",
    "model_DT = DecisionTreeClassifier( random_state=42)\n",
    "model_DT.fit(X_train, y_train)\n",
    "y_pred_DT=model_DT.predict(X_test)\n",
    "result_DT=model_DT.score(X_test, y_test)\n",
    "print(\"DT Accuracy:\", result_DT)\n",
    "\n",
    "print(classification_report(y_test,y_pred_DT))\n",
    "\n",
    "confusion_matrix(y_test, y_pred_DT) #The inputs are the test dataset and the predicted from the classifier. "
   ]
  },
  {
   "cell_type": "markdown",
   "metadata": {
    "id": "So2hzc-BKLjU"
   },
   "source": [
    "### Ensembling models"
   ]
  },
  {
   "cell_type": "markdown",
   "metadata": {
    "id": "7GbOE6CMKLjU"
   },
   "source": [
    "Another mechanism to improve the performance of a classifier is to combine several algorithms. The three most popular methods for combining models are:\n",
    "- Bagging combines multiple models that are trained with different subsamples of the training dataset.\n",
    "- Boosting combines multiple models in cascade and each of them learns to fix the prediction errors of the prior model.\n",
    "- Voting combines statistically the output of several models.\n",
    "\n",
    "Usually Bagging and Boosting are formed by models of the same type meanwhile voting could be formed by different models."
   ]
  },
  {
   "cell_type": "markdown",
   "metadata": {
    "id": "NgkK3L4xKLjV"
   },
   "source": [
    "### Voting ensemble"
   ]
  },
  {
   "cell_type": "markdown",
   "metadata": {
    "id": "24SsOU59KLjW"
   },
   "source": [
    "[**EX13**][**CODE**][**REPORT**] Build a **voting** ensemble formed by a SVM and Decision Tree and train it with the balanced training dataset. Calculate the **precision**, **recall** and **confusion matrix** of the new classifier. Is it better than any of the previous baseline models? Justify your answer.\n",
    "\n",
    "Tip: You may use [VotingClassifier()](https://scikit-learn.org/stable/modules/generated/sklearn.ensemble.VotingClassifier.html) to build this type of ensemble."
   ]
  },
  {
   "cell_type": "code",
   "execution_count": 51,
   "metadata": {
    "colab": {
     "base_uri": "https://localhost:8080/"
    },
    "executionInfo": {
     "elapsed": 260,
     "status": "ok",
     "timestamp": 1624201484337,
     "user": {
      "displayName": "ARIADNA NING MORANCHO",
      "photoUrl": "",
      "userId": "02737535556598089552"
     },
     "user_tz": -120
    },
    "id": "RM3X2YZP9zpc",
    "outputId": "57a7ee8f-261a-4a76-d6c0-0c77cb9ad6bd"
   },
   "outputs": [
    {
     "name": "stdout",
     "output_type": "stream",
     "text": [
      "Voting Accuracy: 0.5089285714285714\n",
      "              precision    recall  f1-score   support\n",
      "\n",
      "           0       0.50      0.82      0.62       165\n",
      "           1       0.55      0.21      0.30       171\n",
      "\n",
      "    accuracy                           0.51       336\n",
      "   macro avg       0.52      0.51      0.46       336\n",
      "weighted avg       0.52      0.51      0.46       336\n",
      "\n",
      "[[135  30]\n",
      " [135  36]]\n"
     ]
    }
   ],
   "source": [
    "dataset = customer_dt.append(noncustomer_dt_sample).reset_index().drop('index', axis = 1)\n",
    "dataset = dataset.loc[:,['City_coded', 'Revenue', 'Sector', 'Legal_Form_Code', 'CNT_EMPLOYEE', 'CNT_CB_DENSITY', 'CNT_CB_MOB_DENSITY', 'CNT_CB_FN_DENSITY', 'Mobile_potential', 'Target']]\n",
    "X_train, X_test, y_train, y_test = train_test_split(dataset.iloc[:,:-1], final_dataset.iloc[:,-1], test_size = 0.2, random_state = 42)\n",
    "\n",
    "#### --- VotingClassifier\n",
    "clf1 = SVC()\n",
    "clf2 = DecisionTreeClassifier( random_state=42)\n",
    "model_Voting = VotingClassifier(estimators=[('SVC',clf1), ('DecisionTree', clf2)], voting='hard')\n",
    "model_Voting.fit(X_train, y_train) #Train the model with the training samples: X_train and y_train\n",
    "y_pred_Voting=model_Voting.predict(X_test) #Test the trained model with test samples\n",
    "result_Voting=model_Voting.score(X_test, y_test) #Print the score of the trained model\n",
    "print(\"Voting Accuracy:\", result_Voting)\n",
    "\n",
    "print(classification_report(y_test,y_pred_Voting))\n",
    "\n",
    "print(confusion_matrix(y_test, y_pred_Voting)) #The inputs are the test dataset and the predicted from the classifier. \n"
   ]
  },
  {
   "cell_type": "markdown",
   "metadata": {
    "id": "ocJiGPkJKLjY"
   },
   "source": [
    "### Bagging ensemble: Random Forest"
   ]
  },
  {
   "cell_type": "markdown",
   "metadata": {
    "id": "LQMj5ap5KLjZ"
   },
   "source": [
    "[**EX14**][**CODE**][**REPORT**] Build a **Bagging** ensemble based on Random Forest. Random Forest is considered a bagging ensemble formed by Decision Trees algorithms. Train the Random Forest with the balanced training dataset, i.e. `X_train` and `y_train`. Calculate the **precision**, **recall** and **confusion matrix** of the new classifier. Is it better than any of the previous baseline models? Justify your answer.\n",
    "\n",
    "Tip: You may use [RandomForestClassifier()](https://scikit-learn.org/stable/modules/generated/sklearn.ensemble.RandomForestClassifier.html) to build this type of ensemble."
   ]
  },
  {
   "cell_type": "code",
   "execution_count": 52,
   "metadata": {
    "colab": {
     "base_uri": "https://localhost:8080/"
    },
    "executionInfo": {
     "elapsed": 479,
     "status": "ok",
     "timestamp": 1624201484813,
     "user": {
      "displayName": "ARIADNA NING MORANCHO",
      "photoUrl": "",
      "userId": "02737535556598089552"
     },
     "user_tz": -120
    },
    "id": "1MX3d9f6_5Ri",
    "outputId": "c6025ace-b724-433e-c468-a4f343f69129"
   },
   "outputs": [
    {
     "name": "stdout",
     "output_type": "stream",
     "text": [
      "Forest Accuracy: 0.6160714285714286\n",
      "              precision    recall  f1-score   support\n",
      "\n",
      "           0       0.62      0.58      0.60       165\n",
      "           1       0.62      0.65      0.63       171\n",
      "\n",
      "    accuracy                           0.62       336\n",
      "   macro avg       0.62      0.62      0.62       336\n",
      "weighted avg       0.62      0.62      0.62       336\n",
      "\n",
      "[[ 96  69]\n",
      " [ 60 111]]\n"
     ]
    }
   ],
   "source": [
    "dataset = customer_dt.append(noncustomer_dt_sample).reset_index().drop('index', axis = 1)\n",
    "dataset = dataset.loc[:,['City_coded', 'Revenue', 'Sector', 'Legal_Form_Code', 'CNT_EMPLOYEE', 'CNT_CB_DENSITY', 'CNT_CB_MOB_DENSITY', 'CNT_CB_FN_DENSITY', 'Mobile_potential', 'Target']]\n",
    "X_train, X_test, y_train, y_test = train_test_split(dataset.iloc[:,:-1], final_dataset.iloc[:,-1], test_size = 0.2, random_state = 42)\n",
    "\n",
    "\n",
    "#### --- RandomForest\n",
    "model_Forest = RandomForestClassifier(random_state=42)#default_parameters\n",
    "model_Forest.fit(X_train, y_train) #Train the model with the training samples: X_train and y_train\n",
    "y_pred_Forest=model_Forest.predict(X_test) #Test the trained model with test samples\n",
    "result_Forest=model_Forest.score(X_test, y_test) #Print the score of the trained model\n",
    "print(\"Forest Accuracy:\", result_Forest)\n",
    "\n",
    "print(classification_report(y_test,y_pred_Forest))\n",
    "\n",
    "print(confusion_matrix(y_test, y_pred_Forest)) #The inputs are the test dataset and the predicted from the classifier. "
   ]
  },
  {
   "cell_type": "markdown",
   "metadata": {
    "id": "4G08f_aEKLjd"
   },
   "source": [
    "[**EX15**][**REPORT**] Plot the histograms of the probabilities resulting of the prediction of the Random Forest model for class 0 and class 1."
   ]
  },
  {
   "cell_type": "code",
   "execution_count": 53,
   "metadata": {
    "colab": {
     "base_uri": "https://localhost:8080/",
     "height": 390
    },
    "executionInfo": {
     "elapsed": 900,
     "status": "ok",
     "timestamp": 1624201485708,
     "user": {
      "displayName": "ARIADNA NING MORANCHO",
      "photoUrl": "",
      "userId": "02737535556598089552"
     },
     "user_tz": -120
    },
    "id": "KCDSlFjIE1TG",
    "outputId": "7c1d844e-91c8-4f31-fa46-5a73fdec1a1b"
   },
   "outputs": [
    {
     "name": "stderr",
     "output_type": "stream",
     "text": [
      "/usr/local/lib/python3.7/dist-packages/seaborn/distributions.py:2557: FutureWarning: `distplot` is a deprecated function and will be removed in a future version. Please adapt your code to use either `displot` (a figure-level function with similar flexibility) or `histplot` (an axes-level function for histograms).\n",
      "  warnings.warn(msg, FutureWarning)\n"
     ]
    },
    {
     "data": {
      "image/png": "[encoded data removed]",
      "text/plain": [
       "<Figure size 504x360 with 1 Axes>"
      ]
     },
     "metadata": {
      "tags": []
     },
     "output_type": "display_data"
    }
   ],
   "source": [
    "y_pred_p = model_Forest.predict_proba(X_test)\n",
    "y_pred = np.concatenate((y_pred_p[:,1].reshape(-1,1), np.asarray(y_test).reshape(-1,1)), axis = 1)\n",
    "y_test_1 = y_pred[y_pred[:,1] == 1]\n",
    "y_test_0 = y_pred[y_pred[:,1] == 0]\n",
    "\n",
    "\n",
    "sns.set(rc={'figure.figsize':(7,5)})\n",
    "sns.distplot(y_test_0[:,0], kde = False, bins = 50)\n",
    "sns.distplot(y_test_1[:,0], kde = False, bins = 50)\n",
    "plt.title(\"Histogram prediction Random Forest for Target 0 and 1\")\n",
    "plt.show()\n",
    "\n"
   ]
  },
  {
   "cell_type": "markdown",
   "metadata": {
    "id": "K9Vbyi1lKLjg"
   },
   "source": [
    "### Boosting ensemble: Gradient Tree Boosting"
   ]
  },
  {
   "cell_type": "markdown",
   "metadata": {
    "id": "VTZvSgz8KLji"
   },
   "source": [
    "[**EX16**][**CODE**][**REPORT**] Build a **Boosting** ensemble based on Gradient Tree Boosting (GBT). There are several boosting algorithms as Adaboost, etc.  Train the GBT with the balanced training dataset, i.e. `X_train` and `y_train`. Calculate the **precision**, **recall** and **confusion matrix** of the new classifier. Is it better than any of the previous baseline models? Justify your answer.\n",
    "\n",
    "Tip: You may use [GradientBoostingClassifier](https://scikit-learn.org/stable/modules/generated/sklearn.ensemble.GradientBoostingClassifier.html) to build this type of ensemble."
   ]
  },
  {
   "cell_type": "code",
   "execution_count": 54,
   "metadata": {
    "colab": {
     "base_uri": "https://localhost:8080/"
    },
    "executionInfo": {
     "elapsed": 449,
     "status": "ok",
     "timestamp": 1624201486151,
     "user": {
      "displayName": "ARIADNA NING MORANCHO",
      "photoUrl": "",
      "userId": "02737535556598089552"
     },
     "user_tz": -120
    },
    "id": "28qrMrqTe6lJ",
    "outputId": "d1183fb0-5626-4260-d87f-7a7deded3e6d"
   },
   "outputs": [
    {
     "name": "stdout",
     "output_type": "stream",
     "text": [
      "Boosting Accuracy: 0.6071428571428571\n",
      "              precision    recall  f1-score   support\n",
      "\n",
      "           0       0.62      0.52      0.57       165\n",
      "           1       0.60      0.69      0.64       171\n",
      "\n",
      "    accuracy                           0.61       336\n",
      "   macro avg       0.61      0.61      0.60       336\n",
      "weighted avg       0.61      0.61      0.60       336\n",
      "\n",
      "[[ 86  79]\n",
      " [ 53 118]]\n"
     ]
    }
   ],
   "source": [
    "dataset = customer_dt.append(noncustomer_dt_sample).reset_index().drop('index', axis = 1)\n",
    "dataset = dataset.loc[:,['City_coded', 'Revenue', 'Sector', 'Legal_Form_Code', 'CNT_EMPLOYEE', 'CNT_CB_DENSITY', 'CNT_CB_MOB_DENSITY', 'CNT_CB_FN_DENSITY', 'Mobile_potential', 'Target']]\n",
    "X_train, X_test, y_train, y_test = train_test_split(dataset.iloc[:,:-1], final_dataset.iloc[:,-1], test_size = 0.2, random_state = 42)\n",
    "\n",
    "#### --- Boosting\n",
    "model_GBT =GradientBoostingClassifier(random_state = 42 )#default_parameters\n",
    "model_GBT.fit(X_train, y_train) #Train the model with the training samples: X_train and y_train\n",
    "y_pred_GBT=model_GBT.predict(X_test) #Test the trained model with test samples\n",
    "result_GBT=model_GBT.score(X_test, y_test) #Print the score of the trained model\n",
    "print(\"Boosting Accuracy:\", result_GBT)\n",
    "\n",
    "print(classification_report(y_test,y_pred_GBT))\n",
    "\n",
    "print(confusion_matrix(y_test, y_pred_GBT)) #The inputs are the test dataset and the predicted from the classifier. "
   ]
  },
  {
   "cell_type": "markdown",
   "metadata": {
    "id": "KLwM8rn_KLjl"
   },
   "source": [
    "[**EX17**][**REPORT**] Plot the histograms of the probabilities resulting of the prediction of the GBT model for class 0 and class 1. Compare it with histogram of Random Forest. Which one classifies better from your point of view? Why? "
   ]
  },
  {
   "cell_type": "code",
   "execution_count": 63,
   "metadata": {
    "colab": {
     "base_uri": "https://localhost:8080/",
     "height": 390
    },
    "executionInfo": {
     "elapsed": 293,
     "status": "ok",
     "timestamp": 1624201507750,
     "user": {
      "displayName": "ARIADNA NING MORANCHO",
      "photoUrl": "",
      "userId": "02737535556598089552"
     },
     "user_tz": -120
    },
    "id": "B9KjVKf2f81T",
    "outputId": "8094ac16-4082-4421-ba56-ac7b55372895"
   },
   "outputs": [
    {
     "name": "stderr",
     "output_type": "stream",
     "text": [
      "/usr/local/lib/python3.7/dist-packages/seaborn/distributions.py:2557: FutureWarning: `distplot` is a deprecated function and will be removed in a future version. Please adapt your code to use either `displot` (a figure-level function with similar flexibility) or `histplot` (an axes-level function for histograms).\n",
      "  warnings.warn(msg, FutureWarning)\n"
     ]
    },
    {
     "data": {
      "image/png": "[encoded data removed]",
      "text/plain": [
       "<Figure size 504x360 with 1 Axes>"
      ]
     },
     "metadata": {
      "tags": []
     },
     "output_type": "display_data"
    }
   ],
   "source": [
    "y_pred_p = model_GBT.predict_proba(X_test)\n",
    "y_pred = np.concatenate((y_pred_p[:,1].reshape(-1,1), np.asarray(y_test).reshape(-1,1)), axis = 1)\n",
    "y_test_1 = y_pred[y_pred[:,1] == 1]\n",
    "y_test_0 = y_pred[y_pred[:,1] == 0]\n",
    "\n",
    "sns.set(rc={'figure.figsize':(7,5)})\n",
    "sns.distplot(y_test_0[:,0], kde = False, bins = 50)\n",
    "sns.distplot(y_test_1[:,0], kde = False, bins = 50)\n",
    "plt.title(\"Histogram prediction GBT for Target 0 and 1\")\n",
    "plt.show()\n"
   ]
  },
  {
   "cell_type": "markdown",
   "metadata": {
    "id": "UvbS-zysKLjq"
   },
   "source": [
    "# 3. Creating a Business opportunity with Machine Learning"
   ]
  },
  {
   "cell_type": "markdown",
   "metadata": {
    "id": "oYWmrLYQKLjP"
   },
   "source": [
    "The cut-off is the **threshold of the probability of the prediction** to assign to class 0 or class 1 the prediction. If probability > cut-off, the model classifies as 1; otherwise, model classifies as 0. \n",
    "The cut-off is a value that can be adjusted to increase the recall or the precision. Usually, there is a **trade-off** between improving the recall-precision."
   ]
  },
  {
   "cell_type": "markdown",
   "metadata": {
    "id": "XBhZ9VKgKLjq"
   },
   "source": [
    "[**EX18**][**CODE**][**REPORT**] Execute the prediction for the selected model. Adjust the cutoff value to optimize the classifier if you consider necessary. How many **non customers** are you going to send to the sales managers to sell our products to them?\n",
    "\n",
    "\n"
   ]
  },
  {
   "cell_type": "code",
   "execution_count": 61,
   "metadata": {
    "colab": {
     "base_uri": "https://localhost:8080/"
    },
    "executionInfo": {
     "elapsed": 18,
     "status": "ok",
     "timestamp": 1624201499792,
     "user": {
      "displayName": "ARIADNA NING MORANCHO",
      "photoUrl": "",
      "userId": "02737535556598089552"
     },
     "user_tz": -120
    },
    "id": "32IPGq4TjZke",
    "outputId": "f62619bf-0f48-4fc0-91fd-1a05c1aa8faa"
   },
   "outputs": [
    {
     "name": "stdout",
     "output_type": "stream",
     "text": [
      "Threshold=  0.4\n",
      "              precision    recall  f1-score   support\n",
      "\n",
      "           0       0.70      0.39      0.50       165\n",
      "           1       0.59      0.84      0.69       171\n",
      "\n",
      "    accuracy                           0.62       336\n",
      "   macro avg       0.64      0.62      0.60       336\n",
      "weighted avg       0.64      0.62      0.60       336\n",
      "\n",
      "Confusion matrix:\n",
      " [[ 65 100]\n",
      " [ 28 143]]\n",
      "243\n",
      "\n",
      "\n",
      "Threshold=  0.5\n",
      "              precision    recall  f1-score   support\n",
      "\n",
      "           0       0.62      0.52      0.57       165\n",
      "           1       0.60      0.69      0.64       171\n",
      "\n",
      "    accuracy                           0.61       336\n",
      "   macro avg       0.61      0.61      0.60       336\n",
      "weighted avg       0.61      0.61      0.60       336\n",
      "\n",
      "Confusion matrix:\n",
      " [[ 86  79]\n",
      " [ 53 118]]\n",
      "197\n",
      "\n",
      "\n",
      "Threshold=  0.6\n",
      "              precision    recall  f1-score   support\n",
      "\n",
      "           0       0.54      0.68      0.60       165\n",
      "           1       0.58      0.43      0.49       171\n",
      "\n",
      "    accuracy                           0.55       336\n",
      "   macro avg       0.56      0.56      0.55       336\n",
      "weighted avg       0.56      0.55      0.55       336\n",
      "\n",
      "Confusion matrix:\n",
      " [[113  52]\n",
      " [ 98  73]]\n",
      "125\n",
      "\n",
      "\n",
      "Threshold=  0.7\n",
      "              precision    recall  f1-score   support\n",
      "\n",
      "           0       0.49      0.89      0.64       165\n",
      "           1       0.54      0.12      0.20       171\n",
      "\n",
      "    accuracy                           0.50       336\n",
      "   macro avg       0.52      0.51      0.42       336\n",
      "weighted avg       0.52      0.50      0.41       336\n",
      "\n",
      "Confusion matrix:\n",
      " [[147  18]\n",
      " [150  21]]\n",
      "39\n",
      "\n",
      "\n",
      "Threshold=  0.7999999999999999\n",
      "              precision    recall  f1-score   support\n",
      "\n",
      "           0       0.50      1.00      0.67       165\n",
      "           1       1.00      0.04      0.07       171\n",
      "\n",
      "    accuracy                           0.51       336\n",
      "   macro avg       0.75      0.52      0.37       336\n",
      "weighted avg       0.75      0.51      0.36       336\n",
      "\n",
      "Confusion matrix:\n",
      " [[165   0]\n",
      " [165   6]]\n",
      "6\n",
      "\n",
      "\n",
      "Threshold=  0.8999999999999999\n",
      "              precision    recall  f1-score   support\n",
      "\n",
      "           0       0.50      1.00      0.66       165\n",
      "           1       1.00      0.02      0.03       171\n",
      "\n",
      "    accuracy                           0.50       336\n",
      "   macro avg       0.75      0.51      0.35       336\n",
      "weighted avg       0.75      0.50      0.34       336\n",
      "\n",
      "Confusion matrix:\n",
      " [[165   0]\n",
      " [168   3]]\n",
      "3\n",
      "\n",
      "\n"
     ]
    }
   ],
   "source": [
    "#Select GBT\n",
    "\n",
    "for prob in np.arange (0.4,1,0.1):\n",
    "    y_pred_new_threshold = (model_GBT.predict_proba(X_test)[:,1]>=prob).astype(int)\n",
    "    print(\"Threshold= \", prob)\n",
    "    print(classification_report(y_test,  y_pred_new_threshold))\n",
    "    print(\"Confusion matrix:\\n\", confusion_matrix(y_test, y_pred_new_threshold))\n",
    "    sum=0\n",
    "    numeric_pred=1*(y_pred_new_threshold==1)\n",
    "    for i in range(len(numeric_pred)):\n",
    "      sum+=numeric_pred[i]\n",
    "\n",
    "\n",
    "    print(sum)\n",
    "    print(\"\\n\")\n",
    "\n"
   ]
  },
  {
   "cell_type": "markdown",
   "metadata": {
    "id": "2OKOVuCNKLjt"
   },
   "source": [
    "Usually, Marketing department needs to know and understand the main features of the algorithms. The code below returns the importance of each feature of the `training_dataset`."
   ]
  },
  {
   "cell_type": "code",
   "execution_count": 60,
   "metadata": {
    "executionInfo": {
     "elapsed": 8,
     "status": "ok",
     "timestamp": 1624201495074,
     "user": {
      "displayName": "ARIADNA NING MORANCHO",
      "photoUrl": "",
      "userId": "02737535556598089552"
     },
     "user_tz": -120
    },
    "id": "nX4VfjM4KLjt"
   },
   "outputs": [],
   "source": [
    "features=['City_coded','Revenue', 'Sector', 'Legal_Form_Code', 'CNT_EMPLOYEE', 'CNT_CB_DENSITY',\n",
    "                            'CNT_CB_MOB_DENSITY', 'CNT_CB_FN_DENS', 'Mobile_potential']\n",
    "features_values=model_GBT.feature_importances_\n",
    "features_importance=[]\n",
    "for i in range (len(features)):\n",
    "    features_importance.append([features[i],features_values[i]])\n",
    "    "
   ]
  },
  {
   "cell_type": "markdown",
   "metadata": {
    "id": "3gE_DYCvKLjw"
   },
   "source": [
    "[**EX19**][**CODE**][**REPORT**] Order the features by importance. Which are the top 3 features to discriminate between **non customers** and **customers**?"
   ]
  },
  {
   "cell_type": "code",
   "execution_count": 59,
   "metadata": {
    "colab": {
     "base_uri": "https://localhost:8080/"
    },
    "executionInfo": {
     "elapsed": 11,
     "status": "ok",
     "timestamp": 1624201493410,
     "user": {
      "displayName": "ARIADNA NING MORANCHO",
      "photoUrl": "",
      "userId": "02737535556598089552"
     },
     "user_tz": -120
    },
    "id": "-9ip_7qkp2ir",
    "outputId": "2497b2a2-5365-4a08-f39b-57f743d9d14a"
   },
   "outputs": [
    {
     "data": {
      "text/plain": [
       "[['CNT_CB_MOB_DENSITY', 0.16428493058407861],\n",
       " ['Mobile_potential', 0.15750413160906607],\n",
       " ['City_coded', 0.12539911204539195],\n",
       " ['Revenue', 0.12213803777806513],\n",
       " ['Sector', 0.10406687434572721],\n",
       " ['Legal_Form_Code', 0.09867929921581355],\n",
       " ['CNT_CB_FN_DENS', 0.09239602589476471],\n",
       " ['CNT_CB_DENSITY', 0.09110476559511088],\n",
       " ['CNT_EMPLOYEE', 0.04442682293198184]]"
      ]
     },
     "execution_count": 59,
     "metadata": {
      "tags": []
     },
     "output_type": "execute_result"
    }
   ],
   "source": [
    "sort=(sorted(features_importance,key=lambda x:x[1], reverse=True))\n",
    "sort"
   ]
  },
  {
   "cell_type": "markdown",
   "metadata": {
    "id": "-htmJrDzKLjy"
   },
   "source": [
    " [**EX20**][**REPORT**] In this project, we have used classification techniques to identify potential customers. We have adjusted the main classification parameters as cutoff, recall and precision according to the final purpose: in out case, identify **non customers** that could be interested to buy our products. Consider a new campaign focused on accelerating the sales of an **existing mobile tariff** to our customers. Answer the following questions:\n",
    "- In this case, which is the **target** variable? Which are **target=0** samples? And **target=1**?\n",
    "- As the marketing campaing is oriented to our customers we will have further information about them in our internal systems. In particular, we could add to the information of the previous section 3 new variables: data and voice consumption and mobile expense. Adding more data to the dataset may imply more computational data and cost. Would you add these 3 new variables to dataset? Justify your answer.\n",
    "- Today the mobile tariff is not very popular among our customers. Will the training dataset be balanced or unbalanced? Justify your answer.\n",
    "\n",
    "Imagine the following scatter plot (`monthly data traffic` vs `monthly voice traffic`):\n",
    "\n",
    "\n",
    "![image.png](data:image/png;base64,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)\n",
    "\n",
    "\n",
    "- Describe in terms of `monthly data traffic` and `monthly voice traffic` the **pattern** of target 1 customers\n",
    "- Draw a plane to separate both classes\n",
    "- According to the previous plane, which are the customers to be phoned to sell the mobile tariff?\n",
    "- Could you estimate the **precision** and **recall** of the classification?"
   ]
  },
  {
   "cell_type": "markdown",
   "metadata": {
    "id": "WqGzZF61KLjy"
   },
   "source": [
    "*******"
   ]
  }
 ],
 "metadata": {
  "colab": {
   "collapsed_sections": [
    "d90P5bXGKLjz"
   ],
   "name": "P02_Classification_student_2021_229713, 231277, 231678.ipynb",
   "provenance": []
  },
  "kernelspec": {
   "display_name": "Python 3",
   "language": "python",
   "name": "python3"
  },
  "language_info": {
   "codemirror_mode": {
    "name": "ipython",
    "version": 3
   },
   "file_extension": ".py",
   "mimetype": "text/x-python",
   "name": "python",
   "nbconvert_exporter": "python",
   "pygments_lexer": "ipython3",
   "version": "3.8.5"
  }
 },
 "nbformat": 4,
 "nbformat_minor": 1
}
